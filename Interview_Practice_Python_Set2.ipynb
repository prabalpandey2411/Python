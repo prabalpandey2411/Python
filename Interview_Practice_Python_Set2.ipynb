{
  "nbformat": 4,
  "nbformat_minor": 0,
  "metadata": {
    "colab": {
      "provenance": []
    },
    "kernelspec": {
      "name": "python3",
      "display_name": "Python 3"
    },
    "language_info": {
      "name": "python"
    }
  },
  "cells": [
    {
      "cell_type": "code",
      "execution_count": null,
      "metadata": {
        "id": "TSddA6yl2Ucx"
      },
      "outputs": [],
      "source": [
        "# Write a function to check if a given number is a power of two. done\n",
        "# Write a program to convert a binary number to a decimal number. done\n",
        "# Write a function to find the greatest common divisor (GCD) of a list of numbers. done\n",
        "# Write a program to find the length of the longest palindrome in a given string.\n",
        "# Write a function to check if a given string is a pangram.\n",
        "# Write a program to find the number of characters in the longest word in a string.\n",
        "# Write a function to find the mode of a list of numbers.\n",
        "# Write a program to generate a random number between two given numbers.\n",
        "# Write a function to find the sum of the first n odd numbers.\n",
        "# Write a program to count the number of even and odd numbers in a list.\n",
        "# Write a function to find the maximum and minimum elements in a list.\n",
        "# Write a program to calculate the sum of all elements in a list.\n",
        "# Write a function to calculate the factorial of a number.\n",
        "# Write a program to print the Fibonacci sequence up to a given number.\n",
        "# Write a function to check if a given number is a palindrome."
      ]
    },
    {
      "cell_type": "code",
      "source": [
        "#1\n",
        "n=int(input(\"Enter Any Number \"))\n",
        "p=int(input(\"Enter Power \"))\n",
        "x=n**p\n",
        "print(f\"given number is a power of two {x}\")"
      ],
      "metadata": {
        "colab": {
          "base_uri": "https://localhost:8080/"
        },
        "id": "_guRzMAA2oJj",
        "outputId": "5db94fb1-d452-44bf-f1af-f131329e4373"
      },
      "execution_count": null,
      "outputs": [
        {
          "output_type": "stream",
          "name": "stdout",
          "text": [
            "Enter Any Number 5\n",
            "Enter Power 2\n",
            "given number is a power of two 25\n"
          ]
        }
      ]
    },
    {
      "cell_type": "code",
      "source": [
        "#2\n",
        "def DTB(x): #Decimal to binary\n",
        "  return bin(x).replace(\"0b\",\"\")\n",
        "\n",
        "def BTD(y): #Binary to Decima\n",
        "  sum=0\n",
        "  x=str(y)[::-1]\n",
        "  for i in range(len(x)):\n",
        "    sum+=int(x[i])*(2**i)\n",
        "\n",
        "  return sum\n",
        "\n",
        "\n",
        "a=int(input(\"Enter Decimal Number \"))\n",
        "print(f\"Binary to Decimal {DTB(a)}\")\n",
        "b=int(input(\"Enter Binary Number\"))\n",
        "print(f\"Decimal to binary {BTD(b)}\")"
      ],
      "metadata": {
        "colab": {
          "base_uri": "https://localhost:8080/"
        },
        "id": "8d2mm4jF7dCY",
        "outputId": "694a7b6f-b886-4973-9b4c-bfc6720b67b2"
      },
      "execution_count": null,
      "outputs": [
        {
          "output_type": "stream",
          "name": "stdout",
          "text": [
            "Enter Decimal Number 6\n",
            "Binary to Decimal 110\n",
            "Enter Binary Number1010\n",
            "Decimal to binary 10\n"
          ]
        }
      ]
    },
    {
      "cell_type": "code",
      "source": [
        "#3 \n",
        "def GCD(x,y):\n",
        "  xx=x\n",
        "  yy=y\n",
        "  z=max(xx,yy)\n",
        "  maxm=0\n",
        "  for i in range(1,z):\n",
        "    if x%i==0 and y%i==0 and maxm<i:\n",
        "      maxm=i\n",
        "  return maxm\n",
        "\n",
        "a=int(input(\"Enter First Number \"))\n",
        "ab=int(input(\"Enter Second Number \"))\n",
        "print(f\"The gcd of {a} and {ab} is : {GCD(a,ab)}\")"
      ],
      "metadata": {
        "colab": {
          "base_uri": "https://localhost:8080/"
        },
        "id": "TeT_KU7f7jwD",
        "outputId": "cd593357-50ca-4048-cd4a-578c5a937b4f"
      },
      "execution_count": null,
      "outputs": [
        {
          "output_type": "stream",
          "name": "stdout",
          "text": [
            "Enter First Number 56\n",
            "Enter Second Number 180\n",
            "The gcd of 56 and 180 is : 4\n"
          ]
        }
      ]
    },
    {
      "cell_type": "code",
      "source": [
        "#4 Refer from google\n",
        "def longest_palindrome(s):\n",
        "    \"\"\"\n",
        "    Given a string `s`, returns the length of the longest palindrome\n",
        "    that can be formed using its characters.\n",
        "    \"\"\"\n",
        "    # First, we create a dictionary to count the occurrences of each character in the string.\n",
        "    char_counts = {}\n",
        "    for c in s:\n",
        "        char_counts[c] = char_counts.get(c, 0) + 1\n",
        "\n",
        "    # Then, we loop through the dictionary and add up the lengths of all the palindromes\n",
        "    # that can be formed using the characters with even counts.\n",
        "    length = 0\n",
        "    has_odd_count = False\n",
        "    for count in char_counts.values():\n",
        "        if count % 2 == 0:\n",
        "            length += count\n",
        "        else:\n",
        "            length += count - 1\n",
        "            has_odd_count = True\n",
        "\n",
        "    # If there is at least one character with an odd count, we add 1 to the length\n",
        "    # to account for the middle character of the longest palindrome.\n",
        "    if has_odd_count:\n",
        "        length += 1\n",
        "\n",
        "    return length\n",
        "\n",
        "\n",
        "s = \"abccccdd\"\n",
        "print(longest_palindrome(s))  "
      ],
      "metadata": {
        "colab": {
          "base_uri": "https://localhost:8080/"
        },
        "id": "DAxGA9Mr7yKc",
        "outputId": "4438930d-1352-4fde-e40d-03c17cf58b28"
      },
      "execution_count": null,
      "outputs": [
        {
          "output_type": "stream",
          "name": "stdout",
          "text": [
            "7\n"
          ]
        }
      ]
    },
    {
      "cell_type": "code",
      "source": [
        "#5 pangram\n",
        "def pangram(s):\n",
        "  c='abcdefghijklmnopqrstuvwxyz'\n",
        "  for i in c:\n",
        "    if i not in s.lower():\n",
        "      return False\n",
        "  return True\n",
        "st=input(\"Enter String \")\n",
        "if(pangram(st)==True):\n",
        "  print(\"Given string is pangram\")\n",
        "else:\n",
        "  print(\"Given string is not pangram\")"
      ],
      "metadata": {
        "colab": {
          "base_uri": "https://localhost:8080/"
        },
        "id": "rR_OaXyT8Dpm",
        "outputId": "9109aeb7-a36b-4a8a-e0ac-b5a70b38457f"
      },
      "execution_count": null,
      "outputs": [
        {
          "output_type": "stream",
          "name": "stdout",
          "text": [
            "Enter String prabalpandey\n",
            "Given string is not pangram\n"
          ]
        }
      ]
    },
    {
      "cell_type": "code",
      "source": [
        "#6\n",
        "string=input(\"Enter String \")\n",
        "s=string.split(\" \")\n",
        "max=s[0]\n",
        "\n",
        "for i in s:\n",
        "  if len(max)<len(i):\n",
        "    max=i\n",
        "\n",
        "print(f\"Longest Word n the srtring is \\'{len(max)}\\'\")"
      ],
      "metadata": {
        "colab": {
          "base_uri": "https://localhost:8080/"
        },
        "id": "z5jgFyUC8IIY",
        "outputId": "cd37655e-3811-4a0f-8cd4-9b739d232728"
      },
      "execution_count": null,
      "outputs": [
        {
          "output_type": "stream",
          "name": "stdout",
          "text": [
            "Enter String apple banana mango\n",
            "Longest Word n the srtring is '6'\n"
          ]
        }
      ]
    },
    {
      "cell_type": "code",
      "source": [
        "#7.\n",
        "def modeoflist(xx):\n",
        "  ss=set(xx)\n",
        "  for i in ss:\n",
        "    print(i,xx.count(i))\n",
        "\n",
        "List=list(map(int,input(\"Enter number\").split()))\n",
        "modeoflist(List)"
      ],
      "metadata": {
        "colab": {
          "base_uri": "https://localhost:8080/"
        },
        "id": "rX7frw638QJv",
        "outputId": "1085f08e-4015-497b-8a3d-5fb76f4ca9d2"
      },
      "execution_count": null,
      "outputs": [
        {
          "output_type": "stream",
          "name": "stdout",
          "text": [
            "Enter number4 5 2 87 4 5\n",
            "2 1\n",
            "4 2\n",
            "5 2\n",
            "87 1\n"
          ]
        }
      ]
    },
    {
      "cell_type": "code",
      "source": [
        "#8\n",
        "import random\n",
        "x=int(input(\"Enter first number \"))\n",
        "y=int(input(\"Enter second number \"))\n",
        "a=random.randint(x,y)\n",
        "print(a)"
      ],
      "metadata": {
        "colab": {
          "base_uri": "https://localhost:8080/"
        },
        "id": "z-5NhV9q8bEh",
        "outputId": "7ab8361f-89ec-411d-ceb4-b2145965b524"
      },
      "execution_count": null,
      "outputs": [
        {
          "output_type": "stream",
          "name": "stdout",
          "text": [
            "Enter first number 10 \n",
            "Enter second number 20\n",
            "15\n"
          ]
        }
      ]
    },
    {
      "cell_type": "code",
      "source": [
        "#9\n",
        "def sum_nth_odd_number(x):\n",
        "  sum=1\n",
        "  odd=0\n",
        "  for i in range(x):\n",
        "    \n",
        "    odd+=sum\n",
        "    sum+=2\n",
        "\n",
        "  return odd\n",
        "n=int(input(\"Enter odd number range \"))\n",
        "print(f\"sum of {n}th odd number is {sum_nth_odd_number(n)}\")"
      ],
      "metadata": {
        "colab": {
          "base_uri": "https://localhost:8080/"
        },
        "id": "Yke9Td4q8jwF",
        "outputId": "c2d6441b-1944-4014-fe56-015ab42d64b4"
      },
      "execution_count": null,
      "outputs": [
        {
          "output_type": "stream",
          "name": "stdout",
          "text": [
            "Enter odd number range 6\n",
            "sum of 6th odd number is 36\n"
          ]
        }
      ]
    },
    {
      "cell_type": "code",
      "source": [
        "#10\n",
        "def evencount(List):\n",
        "  evecount=0\n",
        "  for i in List:\n",
        "    if i%2==0:\n",
        "      evecount+=1\n",
        "  return evecount\n",
        "\n",
        "def oddcount(List):\n",
        "  oddcount=0\n",
        "  for i in List:\n",
        "    if i%2!=0:\n",
        "      oddcount+=1\n",
        "  return oddcount\n",
        "\n",
        "x=list(map(int,input(\"Enter number \").split()))\n",
        "\n",
        "print(f\"Even count of list is {evencount(x)} and odd count of list is {oddcount(x)}\")"
      ],
      "metadata": {
        "colab": {
          "base_uri": "https://localhost:8080/"
        },
        "id": "kXH1qGnb8tzG",
        "outputId": "d0b4a376-2540-4dcb-f60a-034da995e913"
      },
      "execution_count": null,
      "outputs": [
        {
          "output_type": "stream",
          "name": "stdout",
          "text": [
            "Enter number 1 4 5 2 4 5 2 3 5\n",
            "Even count of list is 4 and odd count of list is 5\n"
          ]
        }
      ]
    },
    {
      "cell_type": "code",
      "source": [
        "#11\n",
        "\n",
        "def maxmin(l):\n",
        "  l.sort()\n",
        "  print(f\"Maximum value in list is {l[-1]} and minimum value in list is {l[0]}\")\n",
        "\n",
        "x=list(map(int,input(\"Enter number \").split()))\n",
        "maxmin(x)"
      ],
      "metadata": {
        "colab": {
          "base_uri": "https://localhost:8080/"
        },
        "id": "33sR7iam84fO",
        "outputId": "8f366644-03be-45b8-f2bc-5fc825f8bd44"
      },
      "execution_count": null,
      "outputs": [
        {
          "output_type": "stream",
          "name": "stdout",
          "text": [
            "Enter number 4 2 5 6 7  8 \n",
            "Maximum value in list is 8 and minimum value in list is 2\n"
          ]
        }
      ]
    },
    {
      "cell_type": "code",
      "source": [
        "#12\n",
        "def sumoflist(x):\n",
        "  sum=0\n",
        "  for i in x:\n",
        "    sum+=i\n",
        "\n",
        "  return sum\n",
        "\n",
        "\n",
        "x=list(map(int,input(\"Enter number \").split()))\n",
        "\n",
        "print(f\"Sum of list is {sumoflist(x)}\")"
      ],
      "metadata": {
        "colab": {
          "base_uri": "https://localhost:8080/"
        },
        "id": "1IIQfv5H9CJU",
        "outputId": "12d0e3f8-7d30-4847-d788-b2861e4e96b2"
      },
      "execution_count": null,
      "outputs": [
        {
          "output_type": "stream",
          "name": "stdout",
          "text": [
            "Enter number 9 8 7 6 5 4 3 2 1\n",
            "Sum of list is 45\n"
          ]
        }
      ]
    },
    {
      "cell_type": "code",
      "source": [
        "#13\n",
        "def fact(a):\n",
        "  if a==0:\n",
        "    return 1\n",
        "  return a*fact(a-1)\n",
        "\n",
        "x=int(input(\"Enter Any Number: \"))\n",
        "print(f\"Factorial of {x} is {fact(x)}\")"
      ],
      "metadata": {
        "colab": {
          "base_uri": "https://localhost:8080/"
        },
        "id": "_2mlHtk79Oaq",
        "outputId": "3930791e-06df-4520-a296-326558716a07"
      },
      "execution_count": null,
      "outputs": [
        {
          "output_type": "stream",
          "name": "stdout",
          "text": [
            "Enter Any Number: 8\n",
            "Factorial of 8 is 40320\n"
          ]
        }
      ]
    },
    {
      "cell_type": "code",
      "source": [
        "#14\n",
        "a=0\n",
        "b=1\n",
        "c=0\n",
        "\n",
        "n=int(input(\"Fibonacci range \"))\n",
        "if n>2:\n",
        "  print(\"Fibonacci series is \",a,b,end=\" \")\n",
        "  for i in range(n-2):\n",
        "      c=a+b\n",
        "      a=b\n",
        "      b=c\n",
        "      print(c,end=\" \")\n",
        "elif n==1:\n",
        "  print(\"Fibonacci series is \",a,end=\" \")"
      ],
      "metadata": {
        "colab": {
          "base_uri": "https://localhost:8080/"
        },
        "id": "gyuPKx_r9Yu2",
        "outputId": "054dc6e2-10ea-4353-d9dd-989a6fced278"
      },
      "execution_count": null,
      "outputs": [
        {
          "output_type": "stream",
          "name": "stdout",
          "text": [
            "Fibonacci range 6\n",
            "Fibonacci series is  0 1 1 2 3 5 "
          ]
        }
      ]
    },
    {
      "cell_type": "code",
      "source": [
        "#21\n",
        "def chkpalidrome(m):\n",
        "  a,sum=0,0\n",
        "  while m>0:\n",
        "    a=m%10\n",
        "    sum=sum*10+a\n",
        "    m=m//10\n",
        "  \n",
        "  return sum\n",
        "\n",
        "chk=int(input(\"Check Palindrome Number \"))\n",
        "\n",
        "if chkpalidrome(chk)==chk:\n",
        "  print(f\"{chk} is a Palindrome Number\")\n",
        "\n",
        "else: \n",
        "  print(f\"{chk} is not a Palindrome Number\")"
      ],
      "metadata": {
        "colab": {
          "base_uri": "https://localhost:8080/"
        },
        "id": "vb1WGc9Q9jYJ",
        "outputId": "800abac8-dbe9-4222-f64b-22c7382bbeb3"
      },
      "execution_count": null,
      "outputs": [
        {
          "output_type": "stream",
          "name": "stdout",
          "text": [
            "Check Palindrome Number 12321\n",
            "12321 is a Palindrome Number\n"
          ]
        }
      ]
    },
    {
      "cell_type": "code",
      "source": [],
      "metadata": {
        "id": "kEZLTANC9ra-"
      },
      "execution_count": null,
      "outputs": []
    }
  ]
}