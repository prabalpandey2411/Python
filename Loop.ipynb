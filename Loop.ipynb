{
  "nbformat": 4,
  "nbformat_minor": 0,
  "metadata": {
    "colab": {
      "provenance": []
    },
    "kernelspec": {
      "name": "python3",
      "display_name": "Python 3"
    },
    "language_info": {
      "name": "python"
    }
  },
  "cells": [
    {
      "cell_type": "code",
      "execution_count": null,
      "metadata": {
        "colab": {
          "base_uri": "https://localhost:8080/"
        },
        "id": "mPjLT99Ts9W0",
        "outputId": "9f1c960e-7157-4942-e1ac-aaf8044831bb"
      },
      "outputs": [
        {
          "output_type": "stream",
          "name": "stdout",
          "text": [
            "1 2 3 4 5 6 7 8 9 10 "
          ]
        }
      ],
      "source": [
        "#1\n",
        "for i in range(1,11):\n",
        "  print(i,end=\" \")\n",
        "  "
      ]
    },
    {
      "cell_type": "code",
      "source": [
        "#2\n",
        "n=int(input(\"Enter number: \"))\n",
        "sum=0\n",
        "while n>0:\n",
        "  sum=sum+n\n",
        "  n-=1\n",
        "print(\"Sum of Natural number\",sum)\n"
      ],
      "metadata": {
        "colab": {
          "base_uri": "https://localhost:8080/"
        },
        "id": "ip_LmJpOtnMj",
        "outputId": "0a9deefe-ddca-4b5e-e442-43a42354691d"
      },
      "execution_count": null,
      "outputs": [
        {
          "output_type": "stream",
          "name": "stdout",
          "text": [
            "Enter number: 10\n",
            "Sum of Natural number 55\n"
          ]
        }
      ]
    },
    {
      "cell_type": "code",
      "source": [
        "#3\n",
        "n=int(input(\"Enter number: \"))\n",
        "sum=0\n",
        "for i in range(1,n+1):\n",
        "  \n",
        "  print(i,end=\" \")\n",
        "  sum=sum+i\n",
        "print()\n",
        "print(\"The Sum of Natural Number upto 7 terms :\",sum)"
      ],
      "metadata": {
        "colab": {
          "base_uri": "https://localhost:8080/"
        },
        "id": "tOrsq90Yt2ER",
        "outputId": "a4c4070c-0007-48a5-a080-82fe5ae6dc45"
      },
      "execution_count": null,
      "outputs": [
        {
          "output_type": "stream",
          "name": "stdout",
          "text": [
            "Enter number: 8\n",
            "1 2 3 4 5 6 7 \n",
            "The Sum of Natural Number upto 7 terms : 28\n"
          ]
        }
      ]
    },
    {
      "cell_type": "code",
      "source": [
        "#4\n",
        "n=int(input(\"Enter number: \"))\n",
        "sum=0\n",
        "for i in range(1,11):\n",
        "  n=int(input(\"Enter number: \"))\n",
        " # print(i,end=\" \")\n",
        "  sum=sum+n\n",
        "avg=sum/10\n",
        "#print()\n",
        "print(\"The Sum of Natural Number:\",sum)\n",
        "print(\"The Average of Natural Number:\",avg)"
      ],
      "metadata": {
        "colab": {
          "base_uri": "https://localhost:8080/"
        },
        "id": "-DtDjhQHv725",
        "outputId": "d2f934de-a52f-4f0e-b98c-4010fbdaab62"
      },
      "execution_count": null,
      "outputs": [
        {
          "output_type": "stream",
          "name": "stdout",
          "text": [
            "Enter number: 56\n",
            "Enter number: 78\n",
            "Enter number: 89\n",
            "Enter number: 45\n",
            "Enter number: 56\n",
            "Enter number: 12\n",
            "Enter number: 54\n",
            "Enter number: 55\n",
            "Enter number: 45\n",
            "Enter number: 45\n",
            "Enter number: 45\n",
            "The Sum of Natural Number: 524\n",
            "The Average of Natural Number: 52.4\n"
          ]
        }
      ]
    },
    {
      "cell_type": "code",
      "source": [
        "#5\n",
        "n=int(input(\"Enter number: \"))\n",
        "for i in range(1,n+1):\n",
        "  print(\"Number is: \",i,\"and cube of the\",i,\"is\",i*i*i)\n",
        "  \n",
        "print()"
      ],
      "metadata": {
        "colab": {
          "base_uri": "https://localhost:8080/"
        },
        "id": "Gegu9I-Rx9EI",
        "outputId": "d7c02a9d-a323-4056-9bc9-9d7e42a1fc03"
      },
      "execution_count": null,
      "outputs": [
        {
          "output_type": "stream",
          "name": "stdout",
          "text": [
            "Enter number: 5\n",
            "Number is:  1 and cube of the 1 is 1\n",
            "Number is:  2 and cube of the 2 is 8\n",
            "Number is:  3 and cube of the 3 is 27\n",
            "Number is:  4 and cube of the 4 is 64\n",
            "Number is:  5 and cube of the 5 is 125\n",
            "\n"
          ]
        }
      ]
    },
    {
      "cell_type": "code",
      "source": [
        "#6\n",
        "n=int(input(\"Enter number: \"))\n",
        "for i in range(1,11):\n",
        "  print(n ,\"x\", i ,\"=\",n*i)\n",
        "  \n",
        "print()"
      ],
      "metadata": {
        "colab": {
          "base_uri": "https://localhost:8080/"
        },
        "id": "MVPBhg0Ty7tz",
        "outputId": "3347f56a-44a0-4413-9ae6-fbd5342ee7e0"
      },
      "execution_count": null,
      "outputs": [
        {
          "output_type": "stream",
          "name": "stdout",
          "text": [
            "Enter number: 15\n",
            "15 x 1 = 15\n",
            "15 x 2 = 30\n",
            "15 x 3 = 45\n",
            "15 x 4 = 60\n",
            "15 x 5 = 75\n",
            "15 x 6 = 90\n",
            "15 x 7 = 105\n",
            "15 x 8 = 120\n",
            "15 x 9 = 135\n",
            "15 x 10 = 150\n",
            "\n"
          ]
        }
      ]
    },
    {
      "cell_type": "code",
      "source": [
        "#7\n",
        "x=int(input(\"Enter number Starting from: \"))\n",
        "y=int(input(\"Enter number Till: \"))\n",
        "for i in range(x,y):\n",
        "  for j in range(1,11):\n",
        "\n",
        "      print(i,\"x\",j,\"=\",i*j)\n",
        "  print()"
      ],
      "metadata": {
        "id": "sKPaLv7Szcc_"
      },
      "execution_count": null,
      "outputs": []
    },
    {
      "cell_type": "code",
      "source": [
        "#9\n",
        "n=int(input())\n",
        "for i in range(1,n):\n",
        "  for j in range(1,i+1):\n",
        "    print(\"*\",end=\" \")\n",
        "  print()\n",
        "  "
      ],
      "metadata": {
        "id": "VMY8CHSn0ZmH",
        "colab": {
          "base_uri": "https://localhost:8080/"
        },
        "outputId": "5aa8aef9-8d0a-41f9-dec5-ca8808620718"
      },
      "execution_count": null,
      "outputs": [
        {
          "output_type": "stream",
          "name": "stdout",
          "text": [
            "6\n",
            "* \n",
            "* * \n",
            "* * * \n",
            "* * * * \n",
            "* * * * * \n"
          ]
        }
      ]
    },
    {
      "cell_type": "code",
      "source": [
        "#10\n",
        "n=int(input())\n",
        "for i in range(1,n):\n",
        "  for j in range(1,i+1):\n",
        "    print(j,end=\" \")\n",
        "  print()\n",
        "\n",
        "  "
      ],
      "metadata": {
        "colab": {
          "base_uri": "https://localhost:8080/"
        },
        "id": "2eIoLF2N3t8e",
        "outputId": "b522e185-7750-49db-d316-26e1191b6ef3"
      },
      "execution_count": null,
      "outputs": [
        {
          "output_type": "stream",
          "name": "stdout",
          "text": [
            "6\n",
            "1 \n",
            "1 2 \n",
            "1 2 3 \n",
            "1 2 3 4 \n",
            "1 2 3 4 5 \n"
          ]
        }
      ]
    },
    {
      "cell_type": "code",
      "source": [
        "#11\n",
        "n=int(input())\n",
        "for i in range(1,n):\n",
        "  for j in range(1,i+1):\n",
        "    print(i,end=\" \")\n",
        "  print()"
      ],
      "metadata": {
        "colab": {
          "base_uri": "https://localhost:8080/"
        },
        "id": "j1GWFwEu4LhV",
        "outputId": "bc25def5-1c5a-4aad-d827-41569e759603"
      },
      "execution_count": null,
      "outputs": [
        {
          "output_type": "stream",
          "name": "stdout",
          "text": [
            "6\n",
            "1 \n",
            "2 2 \n",
            "3 3 3 \n",
            "4 4 4 4 \n",
            "5 5 5 5 5 \n"
          ]
        }
      ]
    },
    {
      "cell_type": "code",
      "source": [
        "#12\n",
        "n=int(input())\n",
        "sum=0\n",
        "for i in range(1,n):\n",
        "  for j in range(1,i+1):\n",
        "    sum+=1\n",
        "    print(sum,end=\" \")\n",
        "  print()"
      ],
      "metadata": {
        "colab": {
          "base_uri": "https://localhost:8080/"
        },
        "id": "-dnXKesr4PwU",
        "outputId": "81e6e263-5af1-4299-efc7-1c6545701f8e"
      },
      "execution_count": null,
      "outputs": [
        {
          "output_type": "stream",
          "name": "stdout",
          "text": [
            "6\n",
            "1 \n",
            "2 3 \n",
            "4 5 6 \n",
            "7 8 9 10 \n",
            "11 12 13 14 15 \n"
          ]
        }
      ]
    },
    {
      "cell_type": "code",
      "source": [
        "#13\n",
        "n=int(input())\n",
        "sum=0\n",
        "for i in range(1,n):\n",
        "  for j in range(4,i,-1):\n",
        "     print('',end=\" \")\n",
        "  for j in range(1,i+1):\n",
        "    sum+=1\n",
        "    print(sum,end=\" \")\n",
        "  print()"
      ],
      "metadata": {
        "colab": {
          "base_uri": "https://localhost:8080/"
        },
        "id": "LgXS8Tiz4iKt",
        "outputId": "89156cf1-5c69-49e0-b601-52b9438e5b70"
      },
      "execution_count": null,
      "outputs": [
        {
          "output_type": "stream",
          "name": "stdout",
          "text": [
            "5\n",
            "   1 \n",
            "  2 3 \n",
            " 4 5 6 \n",
            "7 8 9 10 \n"
          ]
        }
      ]
    },
    {
      "cell_type": "code",
      "source": [
        "#14\n",
        "n=int(input())\n",
        "\n",
        "for i in range(1,n):\n",
        "  for j in range(4,i,-1):\n",
        "     print('',end=\" \")\n",
        "  for j in range(1,i+1):\n",
        "    \n",
        "    print(\"*\",end=\" \")\n",
        "  print()"
      ],
      "metadata": {
        "colab": {
          "base_uri": "https://localhost:8080/"
        },
        "id": "Be7WxvW45L5h",
        "outputId": "a4ac965b-d7dc-4f8d-cf46-46b05cd629b2"
      },
      "execution_count": null,
      "outputs": [
        {
          "output_type": "stream",
          "name": "stdout",
          "text": [
            "5\n",
            "   * \n",
            "  * * \n",
            " * * * \n",
            "* * * * \n"
          ]
        }
      ]
    },
    {
      "cell_type": "code",
      "source": [
        "#15\n",
        "n=int(input(\"Enter Factorial number: \"))\n",
        "a=n\n",
        "fac=1\n",
        "while n>=1:\n",
        "  fac=fac*n\n",
        "  n-=1\n",
        "print(\"factorial of\",a,\"is\",fac)"
      ],
      "metadata": {
        "colab": {
          "base_uri": "https://localhost:8080/"
        },
        "id": "00bD4K587Hnu",
        "outputId": "787cb93b-3646-4003-b385-974f81fe184e"
      },
      "execution_count": null,
      "outputs": [
        {
          "output_type": "stream",
          "name": "stdout",
          "text": [
            "Enter Factorial number: 5\n",
            "factorial of 5 is 120\n"
          ]
        }
      ]
    },
    {
      "cell_type": "code",
      "source": [
        "#16\n",
        "n=int(input(\"Enter Factorial number: \"))\n",
        "a=n\n",
        "sum=0\n",
        "while n>=0:\n",
        "  if n%2==0:\n",
        "    sum=sum+n\n",
        "    n-=1\n",
        "print(\"Sum of even number  is\",sum)"
      ],
      "metadata": {
        "colab": {
          "base_uri": "https://localhost:8080/"
        },
        "id": "C2SvqPI-7f27",
        "outputId": "ad02be5d-055c-415f-d600-eb92286da092"
      },
      "execution_count": null,
      "outputs": [
        {
          "name": "stdout",
          "output_type": "stream",
          "text": [
            "Enter Factorial number: 100\n"
          ]
        }
      ]
    },
    {
      "cell_type": "code",
      "source": [
        "#8\n",
        "n=int(input(\"Enter the number: \"))\n",
        "print (\"The odd numbers are: \")\n",
        "a=1\n",
        "sum=0\n",
        "for i in range(1,n+1):\n",
        "  print(a,end=\" \")\n",
        "  sum=sum+a\n",
        "  a+=2\n",
        "print()  \n",
        "print(\"The sum of odd natural number upto 10 terms: \",sum)\n"
      ],
      "metadata": {
        "id": "H8JkwtJ-9L7T",
        "colab": {
          "base_uri": "https://localhost:8080/"
        },
        "outputId": "014b64bd-9824-4f48-9189-f76e71f7e3ee"
      },
      "execution_count": null,
      "outputs": [
        {
          "output_type": "stream",
          "name": "stdout",
          "text": [
            "Enter the number: 5\n",
            "The odd numbers are: \n",
            "1 3 5 7 9 \n",
            "The sum of odd natural number upto 10 terms:  25\n"
          ]
        }
      ]
    },
    {
      "cell_type": "code",
      "source": [
        "#16\n",
        "n=int(input(\"Enter the number: \"))\n",
        "print (\"The odd numbers are: \")\n",
        "a=2\n",
        "sum=0\n",
        "for i in range(1,n+1):\n",
        "  print(a,end=\" \")\n",
        "  sum=sum+a\n",
        "  a+=2\n",
        "print()  \n",
        "print(\"The sum of odd natural number upto 10 terms: \",sum)"
      ],
      "metadata": {
        "colab": {
          "base_uri": "https://localhost:8080/"
        },
        "id": "I1ZOI863FzaG",
        "outputId": "ff54d61d-36c3-4bc6-8439-4823dc02c3c6"
      },
      "execution_count": null,
      "outputs": [
        {
          "output_type": "stream",
          "name": "stdout",
          "text": [
            "Enter the number: 5\n",
            "The odd numbers are: \n",
            "2 4 6 8 10 \n",
            "The sum of odd natural number upto 10 terms:  30\n"
          ]
        }
      ]
    },
    {
      "cell_type": "code",
      "source": [
        "#17\n",
        "n=int(input())\n",
        "sum=0\n",
        "for i in range(1,n):\n",
        "  for j in range(4,i,-1):\n",
        "     print('',end=\" \")\n",
        "  for j in range(1,i+1):\n",
        "    print(i,end=\" \")\n",
        "  print()"
      ],
      "metadata": {
        "colab": {
          "base_uri": "https://localhost:8080/"
        },
        "id": "EQtHw5IYGFJM",
        "outputId": "97606792-70ed-49eb-9c33-93e4e1fe7c0f"
      },
      "execution_count": null,
      "outputs": [
        {
          "output_type": "stream",
          "name": "stdout",
          "text": [
            "5\n",
            "   1 \n",
            "  2 2 \n",
            " 3 3 3 \n",
            "4 4 4 4 \n"
          ]
        }
      ]
    },
    {
      "cell_type": "code",
      "source": [
        "#20\n",
        "n=int(input())\n",
        "sum=0\n",
        "for i in range(1,n):\n",
        "  for j in range(4,i,-1):\n",
        "     print(' ',end=\"\")\n",
        "  for j in range(1,i+1):\n",
        "    print(\"*\",end=\"\")\n",
        "  for j in range(0,i-1):\n",
        "    print(\"*\",end=\"\")\n",
        "  print()"
      ],
      "metadata": {
        "colab": {
          "base_uri": "https://localhost:8080/"
        },
        "id": "c0pke9WhISpQ",
        "outputId": "b1a49f1d-1b64-4966-bc73-bbfaeeccf8e1"
      },
      "execution_count": null,
      "outputs": [
        {
          "output_type": "stream",
          "name": "stdout",
          "text": [
            "4\n",
            "   *\n",
            "  ***\n",
            " *****\n"
          ]
        }
      ]
    },
    {
      "cell_type": "code",
      "source": [
        "#19\n",
        "n=int(input(\"Enter number of terms: \"))\n",
        "\n",
        "sum=0\n",
        "for i in range(1,n+1):\n",
        "  print(\"1/\",i,\"+\",end=\"\")\n",
        "  \n",
        "  sum+=1/i\n",
        "print()\n",
        "print(\"Sum of Series upto 5 terms: \",'%.6f'%sum)"
      ],
      "metadata": {
        "id": "ORwjNroTJbFS",
        "colab": {
          "base_uri": "https://localhost:8080/"
        },
        "outputId": "f8e40e54-358e-49d7-88ec-cac19d401aa5"
      },
      "execution_count": null,
      "outputs": [
        {
          "output_type": "stream",
          "name": "stdout",
          "text": [
            "Enter number of terms: 5\n",
            "1/ 1 +1/ 2 +1/ 3 +1/ 4 +1/ 5 +\n",
            "Sum of Series upto 5 terms:  2.283333\n"
          ]
        }
      ]
    },
    {
      "cell_type": "code",
      "source": [
        "#21\n",
        "n=int(input(\"Enter the number: \"))\n",
        "print (\"The odd numbers are: \")\n",
        "\n",
        "sum=9\n",
        "for i in range(2,n+1):\n",
        "  print(pow(10,i)-1,end=\" \")\n",
        "  sum+=pow(10,i)-1\n",
        "print()\n",
        "  \n",
        "print(\"Sum of Series upto 5 terms: \",'%.3f'%sum)"
      ],
      "metadata": {
        "id": "1tAlPstDL3zJ",
        "colab": {
          "base_uri": "https://localhost:8080/"
        },
        "outputId": "657932f8-872a-49cb-992e-004ff94d9aa8"
      },
      "execution_count": null,
      "outputs": [
        {
          "output_type": "stream",
          "name": "stdout",
          "text": [
            "Enter the number: 6\n",
            "The odd numbers are: \n",
            "99 999 9999 99999 999999 \n",
            "Sum of Series upto 5 terms:  1111104.000\n"
          ]
        }
      ]
    },
    {
      "cell_type": "code",
      "source": [
        "#25\n",
        "n=int(input(\"Enter number: \"))\n",
        "a=0\n",
        "for i in range(1,n+1):\n",
        "  mul=i*i\n",
        "  print(\"Number is: \",i,\"and Suare of the\",i,\"is\",mul)\n",
        "  a+=mul\n",
        "print(\"Sum is\",a)\n",
        "  \n"
      ],
      "metadata": {
        "colab": {
          "base_uri": "https://localhost:8080/"
        },
        "id": "xF3Cq86wAsk7",
        "outputId": "66249c8f-c832-471c-a7b4-45ed16a5a3c1"
      },
      "execution_count": null,
      "outputs": [
        {
          "output_type": "stream",
          "name": "stdout",
          "text": [
            "Enter number: 5\n",
            "Number is:  1 and Suare of the 1 is 1\n",
            "Number is:  2 and Suare of the 2 is 4\n",
            "Number is:  3 and Suare of the 3 is 9\n",
            "Number is:  4 and Suare of the 4 is 16\n",
            "Number is:  5 and Suare of the 5 is 25\n",
            "Sum is 55\n"
          ]
        }
      ]
    },
    {
      "cell_type": "code",
      "source": [
        "#26\n",
        "n=int(input(\"Enter the number: \"))\n",
        "print (\"The odd numbers are: \")\n",
        "\n",
        "sum=1\n",
        "for i in range(0,n):\n",
        "  print(pow(10,i)+11,end=\" \")\n",
        "  sum+=pow(10,i)+11\n",
        "print()\n",
        "  \n",
        "print(\"Sum of Series upto 5 terms: \",'%.3f'%sum)"
      ],
      "metadata": {
        "colab": {
          "base_uri": "https://localhost:8080/"
        },
        "id": "rZlkhFhd935m",
        "outputId": "82d5b4cb-7b6d-4f1f-b246-5a2ad16cced5"
      },
      "execution_count": null,
      "outputs": [
        {
          "output_type": "stream",
          "name": "stdout",
          "text": [
            "Enter the number: 5\n",
            "The odd numbers are: \n",
            "12 21 111 1011 10011 \n",
            "Sum of Series upto 5 terms:  11167.000\n"
          ]
        }
      ]
    },
    {
      "cell_type": "code",
      "source": [
        "#22\n",
        "n=int(input())\n",
        "sum=0\n",
        "for i in range(1,n):\n",
        "  for j in range(1,i+1):\n",
        "    sum+=1\n",
        "    if sum%2==0:\n",
        "      print(1,end=\"\")\n",
        "    else:\n",
        "      print(0,end=\"\")\n",
        "    \n",
        "    #print(sum%2,end=\" \")\n",
        "  print()"
      ],
      "metadata": {
        "id": "GrW8kwz6AYU8",
        "colab": {
          "base_uri": "https://localhost:8080/"
        },
        "outputId": "2b451cd6-ac9d-4abb-aa33-d3b42f8a0514"
      },
      "execution_count": null,
      "outputs": [
        {
          "output_type": "stream",
          "name": "stdout",
          "text": [
            "5\n",
            "0\n",
            "10\n",
            "101\n",
            "0101\n"
          ]
        }
      ]
    },
    {
      "cell_type": "code",
      "source": [
        "#27\n",
        "n=int(input())\n",
        "sum=0\n",
        "for i in range(1,n):\n",
        "  if n%i==0:\n",
        "    sum=sum+i\n",
        "    print(i,end=\" \")\n",
        "print(\"The Positive Divisor is\",i)\n",
        "print(\"The Sum of Divisor is: \",sum)\n",
        "if sum==n:\n",
        "      print(\"The Number is perfect\")\n",
        "else:\n",
        "      print(\"The number is not perfect\")"
      ],
      "metadata": {
        "colab": {
          "base_uri": "https://localhost:8080/"
        },
        "id": "bBKsJLc-BIY6",
        "outputId": "00a6c1ee-8dcb-4c47-d2b7-61db8b25ad51"
      },
      "execution_count": null,
      "outputs": [
        {
          "output_type": "stream",
          "name": "stdout",
          "text": [
            "56\n",
            "1 2 4 7 8 14 28 The Positive Divisor is 55\n",
            "The Sum of Divisor is:  64\n",
            "The number is not perfect\n"
          ]
        }
      ]
    },
    {
      "cell_type": "code",
      "source": [
        "\n"
      ],
      "metadata": {
        "colab": {
          "base_uri": "https://localhost:8080/"
        },
        "id": "tnvY92SO-k6R",
        "outputId": "50491a7e-f2a2-48e7-a038-42c68636d40c"
      },
      "execution_count": null,
      "outputs": [
        {
          "output_type": "stream",
          "name": "stdout",
          "text": [
            "input a number: 153\n",
            "153 is armstrong\n"
          ]
        }
      ]
    },
    {
      "cell_type": "code",
      "source": [
        "s=\"10101\"\n",
        "for i in range(4,-1,-1):\n",
        "  print(s[i:5])\n"
      ],
      "metadata": {
        "id": "WLOZimpOY-Lu"
      },
      "execution_count": null,
      "outputs": []
    },
    {
      "cell_type": "code",
      "source": [
        "def fact(n):\n",
        "  f=1\n",
        "  while n > 0:\n",
        "    f*=n\n",
        "    n-=1\n",
        "  return f\n",
        "\n",
        "X = int(input(\"enter value of X : \"))\n",
        "num = int(input(\"number of terms : \"))\n",
        "d=0\n",
        "for i in range(1,num+1):\n",
        "  p = (i-1)*2\n",
        "  d += ((-1)**(i-1))*(X**p/fact(p))\n",
        "print(d)\n"
      ],
      "metadata": {
        "id": "e4bAY8mPY_KW",
        "colab": {
          "base_uri": "https://localhost:8080/"
        },
        "outputId": "364e682e-56ad-4482-caae-ae9f7b99621b"
      },
      "execution_count": null,
      "outputs": [
        {
          "output_type": "stream",
          "name": "stdout",
          "text": [
            "enter value of X : 5\n",
            "number of terms : 6\n",
            "-0.16274663800705413\n"
          ]
        }
      ]
    },
    {
      "cell_type": "code",
      "source": [
        "#27\n",
        "n=int(input())\n",
        "sum=0\n",
        "for i in range(1,n):\n",
        "  if n%i==0:\n",
        "    sum=sum+i\n",
        "    print(i,end=\" \")"
      ],
      "metadata": {
        "colab": {
          "base_uri": "https://localhost:8080/"
        },
        "id": "qgkkmRbi1IyY",
        "outputId": "a49816ff-b9c2-465c-aff3-eb6a9bf4491a"
      },
      "execution_count": null,
      "outputs": [
        {
          "output_type": "stream",
          "name": "stdout",
          "text": [
            "50\n",
            "1 2 5 10 25 "
          ]
        }
      ]
    },
    {
      "cell_type": "code",
      "source": [
        "#28\n",
        "def perfect_Number(n):\n",
        "   if n < 1:\n",
        "      return False\n",
        "\n",
        "   sum = 0\n",
        "   for i in range(1,n):\n",
        "      if n%i==0:\n",
        "         sum += i\n",
        "   return sum == n\n",
        "\n",
        "\n",
        "x = int(input('Print minimum value: '))\n",
        "y = int(input('Print maximum value: '))\n",
        "\n",
        "\n",
        "print('Perfect numbers from %d to %d are:' %(x, y))\n",
        "for i in range(x, y+1):\n",
        "   if perfect_Number(i):\n",
        "     print(i, end=', ')"
      ],
      "metadata": {
        "colab": {
          "base_uri": "https://localhost:8080/"
        },
        "id": "LtEDIn6Q1J4k",
        "outputId": "81a8a07e-d3fa-4537-e016-1220274d61c3"
      },
      "execution_count": null,
      "outputs": [
        {
          "output_type": "stream",
          "name": "stdout",
          "text": [
            "Print minimum value: 1\n",
            "Print maximum value: 50\n",
            "Perfect numbers from 1 to 50 are:\n",
            "6, 28, "
          ]
        }
      ]
    },
    {
      "cell_type": "code",
      "source": [
        "#29\n",
        "b=int(input(\"input a number: \"))\n",
        "y=0\n",
        "x=0\n",
        "a=b\n",
        "while a>0:\n",
        "  x=a%10\n",
        "  y+=x**3\n",
        "  a=a//10\n",
        "if b == y:\n",
        "  print(b,\"is armstrong\")\n",
        "else:\n",
        "  print(b,\"is not an armstrong\")"
      ],
      "metadata": {
        "colab": {
          "base_uri": "https://localhost:8080/"
        },
        "id": "KaPR0EYbHYmL",
        "outputId": "fb9a7dde-df24-47cc-ab99-acbc20668c29"
      },
      "execution_count": null,
      "outputs": [
        {
          "output_type": "stream",
          "name": "stdout",
          "text": [
            "input a number: 153\n",
            "153 is armstrong\n"
          ]
        }
      ]
    },
    {
      "cell_type": "code",
      "source": [
        "#30\n",
        "def armstrong(x):\n",
        "  a=x\n",
        "  s=r=0\n",
        "  while a>=1:\n",
        "    r=a%10\n",
        "    s+=r**3\n",
        "    a//=10\n",
        "  return x==s\n",
        "\n",
        "l=int(input(\"From:\"))\n",
        "m=int(input(\"To:\"))\n",
        "for i in range(l,m):\n",
        "  if armstrong(i):\n",
        "   print(i,end=\" \")\n"
      ],
      "metadata": {
        "colab": {
          "base_uri": "https://localhost:8080/"
        },
        "id": "4FjadGA08IIT",
        "outputId": "dd84a39d-bf3e-4b53-e62b-ba4c65e47489"
      },
      "execution_count": null,
      "outputs": [
        {
          "output_type": "stream",
          "name": "stdout",
          "text": [
            "From:1\n",
            "To:1000\n",
            "1 153 370 371 407 "
          ]
        }
      ]
    },
    {
      "cell_type": "code",
      "source": [
        "#31\n",
        "for i in range(1,6):\n",
        "  print(\" \"*(5-i),(\"*\"*(i))+(\"*\"*(i-1)))\n",
        "for i in range(5,1,-1):\n",
        "  print(\" \"*(6-i),(\"*\"*(i-1))+(\"*\"*(i-2)))\n"
      ],
      "metadata": {
        "colab": {
          "base_uri": "https://localhost:8080/"
        },
        "id": "ibQO-TgDAeL5",
        "outputId": "a1251440-db31-40c9-ee82-307803975235"
      },
      "execution_count": null,
      "outputs": [
        {
          "output_type": "stream",
          "name": "stdout",
          "text": [
            "     *\n",
            "    ***\n",
            "   *****\n",
            "  *******\n",
            " *********\n",
            "  *******\n",
            "   *****\n",
            "    ***\n",
            "     *\n"
          ]
        }
      ]
    },
    {
      "cell_type": "code",
      "source": [
        "#32\n",
        "x=int(input(\"Enter Number \"))\n",
        "if x>1:\n",
        "  for i in range(2,x):\n",
        "      if x%i==0:\n",
        "        print(\"Not prime no\",x)\n",
        "        break\n",
        "  else:\n",
        "      print(\"prime no\",x)\n",
        "else:\n",
        "  print(\"not a Prime no\",x)\n",
        "\n"
      ],
      "metadata": {
        "colab": {
          "base_uri": "https://localhost:8080/"
        },
        "id": "9d5W8vB4Kaha",
        "outputId": "4f3bf5b3-37c0-454d-b12a-e23e881bc5d8"
      },
      "execution_count": null,
      "outputs": [
        {
          "output_type": "stream",
          "name": "stdout",
          "text": [
            "Enter Number 56\n",
            "Not prime no 56\n"
          ]
        }
      ]
    },
    {
      "cell_type": "code",
      "source": [
        "#33"
      ],
      "metadata": {
        "id": "E2UqSsBbFVi3"
      },
      "execution_count": null,
      "outputs": []
    },
    {
      "cell_type": "code",
      "source": [
        "#34\n",
        "x=int(input(\"Enter Number \"))\n",
        "l=[]\n",
        "if x>1:\n",
        "  for j in range(2,x):\n",
        "      for i in range(2,j):\n",
        "          if j%i==0:\n",
        "            #print(\"Not prime no\",x)\n",
        "            break\n",
        "      else:\n",
        "          l.append(j)\n",
        "print(\"The prime number between 1 and 50 are \")\n",
        "for k in l:\n",
        "   print(k,end=\" \")\n"
      ],
      "metadata": {
        "id": "UVA6KtIOP04f",
        "colab": {
          "base_uri": "https://localhost:8080/"
        },
        "outputId": "8c760530-7e91-4900-da5a-99aafc4f60df"
      },
      "execution_count": null,
      "outputs": [
        {
          "output_type": "stream",
          "name": "stdout",
          "text": [
            "Enter Number 50\n",
            "The prime number between 1 and 50 are \n",
            "2 3 5 7 11 13 17 19 23 29 31 37 41 43 47 "
          ]
        }
      ]
    },
    {
      "cell_type": "code",
      "source": [
        "#35\n",
        "x=int(input(\"Enter Terms\"))\n",
        "n1=0\n",
        "n2=1\n",
        "for i in range(0,x):\n",
        "  nth=n1+n2\n",
        "  n1=n2\n",
        "  n2=nth\n",
        "  print(nth, end=\" \")"
      ],
      "metadata": {
        "colab": {
          "base_uri": "https://localhost:8080/"
        },
        "id": "4qP4q2mYEAO4",
        "outputId": "e4276220-7dcf-4599-c48c-92dd4cd4d8ce"
      },
      "execution_count": null,
      "outputs": [
        {
          "output_type": "stream",
          "name": "stdout",
          "text": [
            "Enter Terms10\n",
            "1 2 3 5 8 13 21 34 55 89 "
          ]
        }
      ]
    },
    {
      "cell_type": "code",
      "source": [
        "#36\n",
        "for i in range(1,4):\n",
        "  for j in range(3-i,0,-1):\n",
        "    print(\" \",end=\"\")\n",
        "  for j in range(1,i+1):\n",
        "    print(j,end=\"\")\n",
        "  for j in range(i-1,0,-1):\n",
        "    print(j,end=\"\")\n",
        "  print() "
      ],
      "metadata": {
        "colab": {
          "base_uri": "https://localhost:8080/"
        },
        "id": "3YoBHveyk9Ti",
        "outputId": "80db5862-70ab-4572-99b0-a508d2e74716"
      },
      "execution_count": null,
      "outputs": [
        {
          "output_type": "stream",
          "name": "stdout",
          "text": [
            "  1\n",
            " 121\n",
            "12321\n"
          ]
        }
      ]
    },
    {
      "cell_type": "code",
      "source": [
        "#37\n",
        "x=int(input())\n",
        "r=0\n",
        "while x>0:\n",
        "  remainder=x%10\n",
        "  r=r*10+remainder\n",
        "  x=x//10\n",
        "print(r)"
      ],
      "metadata": {
        "colab": {
          "base_uri": "https://localhost:8080/"
        },
        "id": "AnjEbCuqdWKr",
        "outputId": "55d1d8a8-2692-4648-af7a-302199462b1c"
      },
      "execution_count": null,
      "outputs": [
        {
          "output_type": "stream",
          "name": "stdout",
          "text": [
            "12345\n",
            "54321\n"
          ]
        }
      ]
    },
    {
      "cell_type": "code",
      "source": [
        "#38\n",
        "x=int(input(\"Enter Number: \"))\n",
        "a=x\n",
        "r=0\n",
        "while x>0:\n",
        "  remainder=x%10\n",
        "  r=r*10+remainder\n",
        "  x=x//10\n",
        "if  r == a:\n",
        "  print(f\"{a} is a palindrome\")\n",
        "else:\n",
        "  print(f\"{a} is not a palindrome\")"
      ],
      "metadata": {
        "colab": {
          "base_uri": "https://localhost:8080/"
        },
        "id": "m3QWklnqeRfT",
        "outputId": "35338236-f551-4723-dd80-fa8ebb8cc05a"
      },
      "execution_count": null,
      "outputs": [
        {
          "output_type": "stream",
          "name": "stdout",
          "text": [
            "Enter Number: 232\n",
            "232 is a palindrome\n"
          ]
        }
      ]
    },
    {
      "cell_type": "code",
      "source": [
        "#39\n",
        "x=int(input(\"Start Number \"))\n",
        "y=int(input(\"End Number \"))\n",
        "for i in range(x,y):\n",
        "  if i%9==0:\n",
        "    print(i,end=\" \")"
      ],
      "metadata": {
        "colab": {
          "base_uri": "https://localhost:8080/"
        },
        "id": "IfoP9iFLjZ7b",
        "outputId": "75d53d7c-1a92-450b-de6e-6c3d8dbea320"
      },
      "execution_count": null,
      "outputs": [
        {
          "output_type": "stream",
          "name": "stdout",
          "text": [
            "Start Number 100\n",
            "End Number 200\n",
            "108 117 126 135 144 153 162 171 180 189 198 "
          ]
        }
      ]
    },
    {
      "cell_type": "code",
      "source": [
        "#59\n",
        "n=input()\n",
        "l=int(n)\n",
        "a=0\n",
        "while l>0:\n",
        "  x=l%10\n",
        "  a+=x**int(len(n))\n",
        "  l=l//10\n",
        "\n",
        "if a==int(n):\n",
        "  print(\"Armstrong\")\n",
        "else:\n",
        "  print(\"Not Armstrong\")\n",
        "\n"
      ],
      "metadata": {
        "colab": {
          "base_uri": "https://localhost:8080/"
        },
        "id": "0XDeAAEBq9vo",
        "outputId": "019c42ad-b4ae-4df6-97df-960ffac82d75"
      },
      "execution_count": null,
      "outputs": [
        {
          "output_type": "stream",
          "name": "stdout",
          "text": [
            "56\n",
            "Not Armstrong\n"
          ]
        }
      ]
    }
  ]
}