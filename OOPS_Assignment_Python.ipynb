{
  "nbformat": 4,
  "nbformat_minor": 0,
  "metadata": {
    "colab": {
      "provenance": []
    },
    "kernelspec": {
      "name": "python3",
      "display_name": "Python 3"
    },
    "language_info": {
      "name": "python"
    }
  },
  "cells": [
    {
      "cell_type": "markdown",
      "source": [
        "Create a Vehicle class without any variables and methods\n"
      ],
      "metadata": {
        "id": "8thT6-SgfvLA"
      }
    },
    {
      "cell_type": "code",
      "source": [
        "class vehicle:\n",
        "  pass"
      ],
      "metadata": {
        "id": "o0lm6TpUfvaS"
      },
      "execution_count": null,
      "outputs": []
    },
    {
      "cell_type": "markdown",
      "source": [
        "Create a child class Bus that will inherit all of the variables and methods of the Vehicle clas"
      ],
      "metadata": {
        "id": "Uawdlw-ffzrs"
      }
    },
    {
      "cell_type": "code",
      "source": [
        "class vehicle:\n",
        "\n",
        "  def __init__(self, name, speed, mileage):\n",
        "    self.name= name\n",
        "    self.speed=speed\n",
        "    self.mileage=mileage\n",
        "\n",
        "class bus(vehicle):\n",
        "  pass\n",
        "\n",
        "b= bus(\"Bus\",100,20)\n",
        "print(\"Vehicle :\", b.name, \"\\n speed : \", b.speed,\"\\n Mileage : \", b.mileage)"
      ],
      "metadata": {
        "colab": {
          "base_uri": "https://localhost:8080/"
        },
        "id": "8DFwg8W1fy1c",
        "outputId": "6fd44b38-25a4-419d-b7ef-7ab293bedb76"
      },
      "execution_count": null,
      "outputs": [
        {
          "output_type": "stream",
          "name": "stdout",
          "text": [
            "Vehicle : Bus \n",
            " speed :  100 \n",
            " Mileage :  20\n"
          ]
        }
      ]
    },
    {
      "cell_type": "markdown",
      "source": [
        "Write a Program to create a class by name Students, and initialize attributes like name, age, and grade while creating an object.\n"
      ],
      "metadata": {
        "id": "sIquQnlE-Qfn"
      }
    },
    {
      "cell_type": "code",
      "source": [
        "class students:\n",
        "  def __init__(self,name,age, grade):\n",
        "    self.name= name\n",
        "    self.age= age \n",
        "    self.grade=grade\n",
        "\n",
        "class Prabal(students):\n",
        "   pass\n",
        "  \n",
        "p=students(\"Prabal\",23,'A')\n",
        "print(p.name,p.age,p.grade)"
      ],
      "metadata": {
        "colab": {
          "base_uri": "https://localhost:8080/"
        },
        "id": "tloHp6-z975o",
        "outputId": "bb5528e3-50fa-4775-f0c8-ea4710f698ab"
      },
      "execution_count": null,
      "outputs": [
        {
          "output_type": "stream",
          "name": "stdout",
          "text": [
            "Prabal 23 A\n"
          ]
        }
      ]
    },
    {
      "cell_type": "markdown",
      "source": [
        "Write a Program to create a valid empty class by name Students, with no properties"
      ],
      "metadata": {
        "id": "nqKDKF7J_lO4"
      }
    },
    {
      "cell_type": "code",
      "source": [
        "class students:\n",
        "  pass\n",
        "\n",
        "obj = students()\n",
        "print(obj)"
      ],
      "metadata": {
        "colab": {
          "base_uri": "https://localhost:8080/"
        },
        "id": "U9bY_m2J-5wN",
        "outputId": "09953d10-cdfe-458c-caae-1251413504d3"
      },
      "execution_count": null,
      "outputs": [
        {
          "output_type": "stream",
          "name": "stdout",
          "text": [
            "<__main__.students object at 0x7f7c72d77700>\n"
          ]
        }
      ]
    },
    {
      "cell_type": "markdown",
      "source": [
        "Write a program to create a child class Teacher that will inherit the properties of Parent class Staff\n"
      ],
      "metadata": {
        "id": "SvQdvXHQ_0yb"
      }
    },
    {
      "cell_type": "code",
      "source": [
        "class staff:\n",
        "  def __init__(self, profession, department, salary):\n",
        "    self.profession = profession\n",
        "    self.department = department\n",
        "    self.salary = salary\n",
        "\n",
        "\n",
        "  def properties(self):\n",
        "    print(\"Name : \" , self.name)\n",
        "    print(\"Age : \" , self.age)\n",
        "    print(\"Profession : \", self.profession)\n",
        "\n",
        "class teacher(staff):\n",
        "  def __init__(self, name, age):\n",
        "    self.name=name\n",
        "    self.age= age\n",
        "    super().__init__(\"Teacher\",\"IT\",300000)\n",
        "\n",
        "t= teacher(\"SunnyL\",45)\n",
        "t.properties()"
      ],
      "metadata": {
        "colab": {
          "base_uri": "https://localhost:8080/"
        },
        "id": "v8wD5QjN_ryn",
        "outputId": "9e649b4e-3b67-4352-845b-d79886d27c48"
      },
      "execution_count": null,
      "outputs": [
        {
          "output_type": "stream",
          "name": "stdout",
          "text": [
            "Name :  SunnyL\n",
            "Age :  45\n",
            "Profession :  Teacher\n"
          ]
        }
      ]
    },
    {
      "cell_type": "markdown",
      "source": [
        "Write a Python program that checks if one class is a subclass of another.\n"
      ],
      "metadata": {
        "id": "awjLRlGwBTI6"
      }
    },
    {
      "cell_type": "code",
      "source": [
        "class person():\n",
        "  def display1(self):\n",
        "    print(\"This is superclass\")\n",
        "\n",
        "class employee(person):\n",
        "  def display2(self):\n",
        "    print(\"This is subclass\")\n",
        "\n",
        "e= employee()\n",
        "e.display1()\n",
        "e.display2()"
      ],
      "metadata": {
        "colab": {
          "base_uri": "https://localhost:8080/"
        },
        "id": "DpcpYSOvBJUe",
        "outputId": "f2305e36-7cf0-419c-9a06-e4f603df5c3b"
      },
      "execution_count": null,
      "outputs": [
        {
          "output_type": "stream",
          "name": "stdout",
          "text": [
            "This is superclass\n",
            "This is subclass\n"
          ]
        }
      ]
    },
    {
      "cell_type": "code",
      "source": [
        "issubclass(employee,person)"
      ],
      "metadata": {
        "colab": {
          "base_uri": "https://localhost:8080/"
        },
        "id": "HR9nHBL_Bz9W",
        "outputId": "5c2b97ca-6d50-4b2f-cd03-a13afe457db1"
      },
      "execution_count": null,
      "outputs": [
        {
          "output_type": "execute_result",
          "data": {
            "text/plain": [
              "True"
            ]
          },
          "metadata": {},
          "execution_count": 22
        }
      ]
    },
    {
      "cell_type": "code",
      "source": [
        "issubclass(person,employee)"
      ],
      "metadata": {
        "colab": {
          "base_uri": "https://localhost:8080/"
        },
        "id": "pw2aUo0wCPhK",
        "outputId": "094e82a7-55f1-4094-b9da-3b000d134dd1"
      },
      "execution_count": null,
      "outputs": [
        {
          "output_type": "execute_result",
          "data": {
            "text/plain": [
              "False"
            ]
          },
          "metadata": {},
          "execution_count": 23
        }
      ]
    },
    {
      "cell_type": "markdown",
      "source": [
        "Write a Program to create a class and, using the class instance, print all the writable attributes of that object.\n",
        "\n"
      ],
      "metadata": {
        "id": "W-oOITRXCaIM"
      }
    },
    {
      "cell_type": "code",
      "source": [
        "class A():\n",
        "  def __init__(a,b,c):\n",
        "    a.b=b\n",
        "    a.c=c\n",
        "class B(A):\n",
        "  def p(a):\n",
        "    print(f'{a.b},{a.c}')\n",
        "  \n",
        "x= B(1,2)\n",
        "x.p()"
      ],
      "metadata": {
        "colab": {
          "base_uri": "https://localhost:8080/"
        },
        "id": "4sSFB5vKCTKU",
        "outputId": "be42b4a5-6797-4430-c9fa-c07194688917"
      },
      "execution_count": null,
      "outputs": [
        {
          "output_type": "stream",
          "name": "stdout",
          "text": [
            "1,2\n"
          ]
        }
      ]
    },
    {
      "cell_type": "markdown",
      "source": [
        "Create a class Teacher with name, age, and salary attributes, where salary must be a private attribute that cannot be accessed outside the class."
      ],
      "metadata": {
        "id": "BmK2Ml7YDHRO"
      }
    },
    {
      "cell_type": "code",
      "source": [
        "class teacher():\n",
        "  def __init__(self,name,age,salary):\n",
        "    self.name=name\n",
        "    self.age= age\n",
        "    self.__salary=salary\n",
        "  def to_print(self):\n",
        "    print(f\"Name : {self.name}, \\n Age : {self.age}, \\n Salary : {self.__salary}\")\n",
        "\n",
        "z=teacher(\"Sweety\",24,100)\n",
        "z.to_print()"
      ],
      "metadata": {
        "colab": {
          "base_uri": "https://localhost:8080/"
        },
        "id": "Xs49iFgADDxY",
        "outputId": "0d8bf301-bf83-41ee-e56c-912eca117955"
      },
      "execution_count": null,
      "outputs": [
        {
          "output_type": "stream",
          "name": "stdout",
          "text": [
            "Name : Sweety, \n",
            " Age : 24, \n",
            " Salary : 100\n"
          ]
        }
      ]
    },
    {
      "cell_type": "code",
      "source": [
        "z.__salary=100000\n",
        "z.to_print()"
      ],
      "metadata": {
        "colab": {
          "base_uri": "https://localhost:8080/"
        },
        "id": "svr-I5h3EZaI",
        "outputId": "a40677e7-c1f6-4889-8eb0-52222952f9a9"
      },
      "execution_count": null,
      "outputs": [
        {
          "output_type": "stream",
          "name": "stdout",
          "text": [
            "Name : Sweety, \n",
            " Age : 24, \n",
            " Salary : 100\n"
          ]
        }
      ]
    },
    {
      "cell_type": "markdown",
      "source": [
        "Write a Python program to create an instance of a specified class and display the namespace of the said instance\n",
        "\n"
      ],
      "metadata": {
        "id": "N7FATS_gTeCz"
      }
    },
    {
      "cell_type": "code",
      "source": [
        "class staff():\n",
        "  def __init__(self,subject):\n",
        "    self.subject=subject\n",
        "  def print_it(self):\n",
        "    print(f\"The subject is {self.subject}\")\n",
        "class teacher(staff):\n",
        "  def __init__(self,name,age,grade,subject):\n",
        "    staff.subject=subject\n",
        "    self.name=name\n",
        "    self.age=age\n",
        "    self.grade=grade\n",
        "  def print_it2(self):\n",
        "    print(f\"Name : {self.name} \\n Age : {self.age}\")\n",
        "\n",
        "s= teacher(\"Amar\", 80,\"C\", 'Maths')\n",
        "s.__dict__"
      ],
      "metadata": {
        "colab": {
          "base_uri": "https://localhost:8080/"
        },
        "id": "dwHzpP9GEecx",
        "outputId": "1e1fff8c-6237-44db-dbb3-a7bc3a60b2bc"
      },
      "execution_count": null,
      "outputs": [
        {
          "output_type": "execute_result",
          "data": {
            "text/plain": [
              "{'name': 'Amar', 'age': 80, 'grade': 'C'}"
            ]
          },
          "metadata": {},
          "execution_count": 30
        }
      ]
    },
    {
      "cell_type": "markdown",
      "source": [
        " Define a Python function student(). Using function attributes display the names of all arguments\n"
      ],
      "metadata": {
        "id": "z7bNp8O_VC8B"
      }
    },
    {
      "cell_type": "code",
      "source": [
        "def student(*args):\n",
        "  return args\n",
        "\n",
        "print(*(student(\"student\",12,100)))"
      ],
      "metadata": {
        "colab": {
          "base_uri": "https://localhost:8080/"
        },
        "id": "ZoRHkwERU9Oq",
        "outputId": "9ea66cd9-0156-4559-df3c-96d897e45bfb"
      },
      "execution_count": null,
      "outputs": [
        {
          "output_type": "stream",
          "name": "stdout",
          "text": [
            "student 12 100\n"
          ]
        }
      ]
    },
    {
      "cell_type": "markdown",
      "source": [
        "Write a Python function student_data () which will print the id of a student (student_id). If the user passes an argument student_name or student_class the function will print the student name and class. \n"
      ],
      "metadata": {
        "id": "ABqM-nX_VZRB"
      }
    },
    {
      "cell_type": "code",
      "source": [
        "class student():\n",
        "  def __init__(self,name,classs):\n",
        "    self.name=name\n",
        "    self.classs=classs\n",
        "    print(\"Student name: \",self.name, \"\\n Class :  \", self.classs)\n",
        "  \n",
        "  def student_data(self):\n",
        "    count=100\n",
        "    print(\"Student Id is : \" , count)\n",
        "    count+=1\n",
        "\n",
        "s=student(\"Jonny Bhai\", \"BE\")\n",
        "s.student_data()\n"
      ],
      "metadata": {
        "colab": {
          "base_uri": "https://localhost:8080/"
        },
        "id": "Zaddz3MOVW9T",
        "outputId": "32e99b6f-312e-4e92-e397-68f743a11a42"
      },
      "execution_count": null,
      "outputs": [
        {
          "output_type": "stream",
          "name": "stdout",
          "text": [
            "Student name:  Jonny Bhai \n",
            " Class :   BE\n",
            "Student Id is :  100\n"
          ]
        }
      ]
    },
    {
      "cell_type": "markdown",
      "source": [
        "Write a simple Python class named Student and display its type. Also, display the __dict__ attribute keys and the value of the __module__ attribute of the Student class.\n"
      ],
      "metadata": {
        "id": "_84nXxd7Wc_X"
      }
    },
    {
      "cell_type": "code",
      "source": [
        "class student():\n",
        "  def __init__ (self,name,age,grade):\n",
        "    self.name = name\n",
        "    self.age=age\n",
        "    self.grade= grade\n",
        "\n",
        "  def to_print(self):\n",
        "    print(f\" Nmae : {self.name} \\n Age : {self.age} \\n Grade : {self.grade}\")\n",
        "print(type(student))\n",
        "s = student('ram',23, 'A+')\n",
        "s2= student('shayam',24,'A++')\n",
        "\n",
        "print(s.__dict__)\n",
        "print(s.__dict__.keys())\n",
        "print(s.__dict__.values())\n",
        "print(s.__dict__.items())\n"
      ],
      "metadata": {
        "colab": {
          "base_uri": "https://localhost:8080/"
        },
        "id": "UGN3mbi0WWP0",
        "outputId": "5721057d-a3af-44f0-c95b-a92b2bfab938"
      },
      "execution_count": null,
      "outputs": [
        {
          "output_type": "stream",
          "name": "stdout",
          "text": [
            "<class 'type'>\n",
            "{'name': 'ram', 'age': 23, 'grade': 'A+'}\n",
            "dict_keys(['name', 'age', 'grade'])\n",
            "dict_values(['ram', 23, 'A+'])\n",
            "dict_items([('name', 'ram'), ('age', 23), ('grade', 'A+')])\n"
          ]
        }
      ]
    },
    {
      "cell_type": "markdown",
      "source": [
        "Write a Python program to create two empty classes, Student and Marks. Now create some instances and check whether they are instances of the said classes or not. Also, check whether the said classes are subclasses of the built-in object class or not.\n"
      ],
      "metadata": {
        "id": "vTZ30glOX_8y"
      }
    },
    {
      "cell_type": "code",
      "source": [
        "class student(list):\n",
        "  pass\n",
        "class marks():\n",
        "  pass\n",
        "\n",
        "stud= student()\n",
        "mark = marks()\n",
        "\n",
        "print(isinstance(stud,student))\n",
        "print(isinstance(mark,student))\n",
        "print(isinstance(stud,marks))\n",
        "print(isinstance(mark,marks))\n",
        "\n",
        "print(issubclass(student, object))\n",
        "print(issubclass(marks, object))\n",
        "print(student.mro())"
      ],
      "metadata": {
        "colab": {
          "base_uri": "https://localhost:8080/"
        },
        "id": "psTLZVaQX2iZ",
        "outputId": "7858cc9b-39fa-4fe8-e727-1f5e0fe8e1c9"
      },
      "execution_count": null,
      "outputs": [
        {
          "output_type": "stream",
          "name": "stdout",
          "text": [
            "True\n",
            "False\n",
            "False\n",
            "True\n",
            "True\n",
            "True\n",
            "[<class '__main__.student'>, <class 'list'>, <class 'object'>]\n"
          ]
        }
      ]
    },
    {
      "cell_type": "markdown",
      "source": [
        "Write a Python class named Student with two attributes: student_name, marks. Modify the attribute values of the said class and print the original and modified values of the said attributes.\n",
        "\n"
      ],
      "metadata": {
        "id": "JyWBeLZ7ZyKp"
      }
    },
    {
      "cell_type": "code",
      "source": [
        "class student():\n",
        "  def __init__(self,name,marks):\n",
        "    self.name = name\n",
        "    self.marks = marks\n",
        "\n",
        "  def to_print(self):\n",
        "    print(f\"The value of attributes are :\\n {self.name}  {self.marks} \")\n",
        "\n",
        "s= student(\"Prabal \", 100)\n",
        "print(s.to_print())\n",
        "\n",
        "s.name = \"New Prabal \"\n",
        "s.marks = 99\n",
        "print(s.to_print())"
      ],
      "metadata": {
        "colab": {
          "base_uri": "https://localhost:8080/"
        },
        "id": "x0sMDV0zZIxg",
        "outputId": "1c680117-70d7-45ef-9de2-e4c7fa890cee"
      },
      "execution_count": null,
      "outputs": [
        {
          "output_type": "stream",
          "name": "stdout",
          "text": [
            "The value of attributes are :\n",
            " Prabal   100 \n",
            "None\n",
            "The value of attributes are :\n",
            " New Prabal   99 \n",
            "None\n"
          ]
        }
      ]
    },
    {
      "cell_type": "markdown",
      "source": [
        "Write a Python class named Student with two attributes student_id, student_name. Add a new attribute student_class and display the entire attribute and their values of the said class. Now remove the student_name attribute and display the entire attribute with values\n"
      ],
      "metadata": {
        "id": "tJiGPFGIa_VM"
      }
    },
    {
      "cell_type": "code",
      "source": [
        "class student():\n",
        "  student_id = '100000'\n",
        "  student_name= 'Trouble'\n",
        "print(\"original attributes are : \")\n",
        "  \n",
        "for key, value in student.__dict__.items():\n",
        "  if not key.startswith('_'): print(f\" {key} --> {value}\")\n",
        "student.student_class= 'A'\n",
        "print('\\n After adding attributes are : ')\n",
        "\n",
        "for key, value in student.__dict__.items():\n",
        "  if not key.startswith('_'): print(f\" {key} --> {value}\")\n",
        "del(student.student_name)\n",
        "print(\"\\n After removing student name : \")\n",
        "\n",
        "for key, value in student.__dict__.items():\n",
        "  if not key.startswith('_'): print(f\" {key} --> {value}\")\n",
        "  "
      ],
      "metadata": {
        "colab": {
          "base_uri": "https://localhost:8080/"
        },
        "id": "g0BwYBiWar_4",
        "outputId": "35a6866d-2f69-4f25-d466-efa0ea1c803d"
      },
      "execution_count": null,
      "outputs": [
        {
          "output_type": "stream",
          "name": "stdout",
          "text": [
            "original attributes are : \n",
            " student_id --> 100000\n",
            " student_name --> Trouble\n",
            "\n",
            " After adding attributes are : \n",
            " student_id --> 100000\n",
            " student_name --> Trouble\n",
            " student_class --> A\n",
            "\n",
            " After removing student name : \n",
            " student_id --> 100000\n",
            " student_class --> A\n"
          ]
        }
      ]
    },
    {
      "cell_type": "markdown",
      "source": [
        "Write a Python class named Student with two attributes student_id, student_name. Add a new attribute student_class. Create a function to display the entire attribute and their values in Student class.\n",
        "\n"
      ],
      "metadata": {
        "id": "4SfQsrFXdc-_"
      }
    },
    {
      "cell_type": "code",
      "source": [
        "class student():\n",
        "  def __init__(self,name,id):\n",
        "    self.name = name\n",
        "    self.id = id\n",
        "\n",
        "s1= student(\"Akash\" , 69)\n",
        "s2 = student(\"Vikash\", 70)\n",
        "\n",
        "for i,j in s1.__dict__.items():\n",
        "  print(f\"{i} -->{j}\")\n",
        "print()\n",
        "\n",
        "for i,j in s2.__dict__.items():\n",
        "  print(f\" {i}-->{j}\")"
      ],
      "metadata": {
        "colab": {
          "base_uri": "https://localhost:8080/"
        },
        "id": "tmMc2SgBc0Td",
        "outputId": "204fec34-b064-46f4-ede1-6107f1f2393b"
      },
      "execution_count": null,
      "outputs": [
        {
          "output_type": "stream",
          "name": "stdout",
          "text": [
            "name -->Akash\n",
            "id -->69\n",
            "\n",
            " name-->Vikash\n",
            " id-->70\n"
          ]
        }
      ]
    },
    {
      "cell_type": "markdown",
      "source": [
        "Write a Python class to find the validity of a string of parentheses, '(', ')', '{', '}', '[' and ']. These brackets must be closed in the correct order, for example \"()\" and \"()[]{}\" are valid but \"[)\", \"({[)]\" and \"{{{\" are invalid.\n"
      ],
      "metadata": {
        "id": "-0Bt4y7IejG8"
      }
    },
    {
      "cell_type": "code",
      "source": [
        "class bracket():\n",
        "  def para(self,str):\n",
        "    ss= {'(',')','{','}','[',']'}\n",
        "    l=[]\n",
        "    for i in str:\n",
        "      if i in ss:\n",
        "        l.append(i)\n",
        "      elif len(l)==0 or ss[l.pop()]!=ss:\n",
        "        return False\n",
        "      return len(l)==0\n",
        "\n",
        "print(bracket().para('()[{}]'))"
      ],
      "metadata": {
        "colab": {
          "base_uri": "https://localhost:8080/"
        },
        "id": "eegT3IYiePNj",
        "outputId": "7617dba1-e0a6-4a7e-91f2-bec0154f1f9b"
      },
      "execution_count": null,
      "outputs": [
        {
          "output_type": "stream",
          "name": "stdout",
          "text": [
            "False\n"
          ]
        }
      ]
    },
    {
      "cell_type": "markdown",
      "source": [
        "Write a Python class to find a pair of elements (indices of the two numbers) from a given array whose sum equals a specific target number.\n",
        "Note: There will be one solution for each input and do not use the same element twice.\n",
        "Input: numbers= [10,20,10,40,50,60,70], target=50\n",
        "Output: 3, 4\n"
      ],
      "metadata": {
        "id": "gRdJq91AgWAZ"
      }
    },
    {
      "cell_type": "code",
      "source": [
        "def pair(a, len, s):\n",
        "  print(\"Sum of pairs is : \", s)\n",
        "  for i in range(len):\n",
        "    for j in range(i, len):\n",
        "      if (a[i] + a[j]) ==s:\n",
        "        print(a[i],a[j])\n",
        "\n",
        "a= [20,10,40,50,60,70]\n",
        "s=50\n",
        "print(\"Array : \", a)\n",
        "pair(a,len(a),s)"
      ],
      "metadata": {
        "colab": {
          "base_uri": "https://localhost:8080/"
        },
        "id": "3qzDTwnygKlZ",
        "outputId": "04e1585e-c4b4-4619-d7db-e063f923188d"
      },
      "execution_count": null,
      "outputs": [
        {
          "output_type": "stream",
          "name": "stdout",
          "text": [
            "Array :  [20, 10, 40, 50, 60, 70]\n",
            "Sum of pairs is :  50\n",
            "10 40\n"
          ]
        }
      ]
    },
    {
      "cell_type": "markdown",
      "source": [
        "Write a Python class to reverse a string word by word.\n",
        "Input string : 'hello .py'\n",
        "Expected Output : '.py hello'\n"
      ],
      "metadata": {
        "id": "dyUMhy4_rWoE"
      }
    },
    {
      "cell_type": "code",
      "source": [
        "class reverse():\n",
        "  def input_string(a):\n",
        "    a.string= input('Enter a string \\t')\n",
        "  def reverse_string(a):\n",
        "    s= (a.string.split()[::-1])\n",
        "    ss=[*set(s)]\n",
        "    return print(\"The reversed string is : \" , ss)\n",
        "\n",
        "s= reverse()\n",
        "s.input_string()\n",
        "s.reverse_string()"
      ],
      "metadata": {
        "colab": {
          "base_uri": "https://localhost:8080/"
        },
        "id": "XraE8GEEhPua",
        "outputId": "1f903db4-7560-49b4-c54d-f921fa1dcc45"
      },
      "execution_count": null,
      "outputs": [
        {
          "output_type": "stream",
          "name": "stdout",
          "text": [
            "Enter a string \thello .py\n",
            "The reversed string is :  ['.py', 'hello']\n"
          ]
        }
      ]
    },
    {
      "cell_type": "markdown",
      "source": [
        "Write a Python class named Circle constructed by a radius and two methods which will compute the area and the perimeter of a circle\n"
      ],
      "metadata": {
        "id": "a8UtHaZ7sV90"
      }
    },
    {
      "cell_type": "code",
      "source": [
        "import math as m\n",
        "class circle:\n",
        "  def input_parameters(a):\n",
        "    a.radius= int(input(\"enter radius \\t\"))\n",
        "  def area(a):\n",
        "    return print(f\"Area is {round(m.pi*((a.radius)**2),2)} \")\n",
        "  def perimeter(a):\n",
        "    return print(f\"Perimeter is {round(2*m.pi*a.radius,2)}\")"
      ],
      "metadata": {
        "id": "1InRNXuEsJR8"
      },
      "execution_count": null,
      "outputs": []
    },
    {
      "cell_type": "code",
      "source": [
        "c= circle()\n",
        "c.input_parameters()\n",
        "c.area()\n",
        "c.perimeter()"
      ],
      "metadata": {
        "colab": {
          "base_uri": "https://localhost:8080/"
        },
        "id": "wNVPueFxtKx7",
        "outputId": "79c1ad85-e613-4133-b6c1-ce09602fb162"
      },
      "execution_count": null,
      "outputs": [
        {
          "output_type": "stream",
          "name": "stdout",
          "text": [
            "enter radius \t5\n",
            "Area is 78.54 \n",
            "Perimeter is 31.42\n"
          ]
        }
      ]
    },
    {
      "cell_type": "markdown",
      "source": [
        "Write a Python class which has two methods get_String and print_String. get_String accept a string from the user and print_String print the string in upper case."
      ],
      "metadata": {
        "id": "XuHQ9paztjzs"
      }
    },
    {
      "cell_type": "code",
      "source": [
        "class ustring():\n",
        "  def get_string(a):\n",
        "    a.string = input('Enter a string: ')\n",
        "  def print_string(a):\n",
        "    return print(f\"String in upper case is : {a.string.upper()} \")\n",
        "\n",
        "s= ustring()\n",
        "s.get_string()\n",
        "s.print_string()"
      ],
      "metadata": {
        "colab": {
          "base_uri": "https://localhost:8080/"
        },
        "id": "Pnk47Zt5tV81",
        "outputId": "789f89cc-d0af-4c44-8010-ea9ceca16f2f"
      },
      "execution_count": null,
      "outputs": [
        {
          "output_type": "stream",
          "name": "stdout",
          "text": [
            "Enter a string: hello world\n",
            "String in upper case is : HELLO WORLD \n"
          ]
        }
      ]
    },
    {
      "cell_type": "markdown",
      "source": [
        "Write a Python class named Rectangle constructed by a length and width and a method which will compute the area of a rectangle"
      ],
      "metadata": {
        "id": "RMhgEBrBuYhE"
      }
    },
    {
      "cell_type": "code",
      "source": [
        "class rect:\n",
        "  def __init__(self, length,width):\n",
        "    self.length = length \n",
        "    self.width =  width \n",
        "  def area(self):\n",
        "    return print(f\"Area of the rectangle is : {round((self.length* self.width),2)}\")\n",
        "\n",
        "r=rect(10,20)\n",
        "r.area()\n",
        "\n",
        "\n",
        "\n",
        "\n"
      ],
      "metadata": {
        "colab": {
          "base_uri": "https://localhost:8080/"
        },
        "id": "04755utFuPsl",
        "outputId": "93da03aa-e04f-421a-b9d7-7d8d1a0f2842"
      },
      "execution_count": null,
      "outputs": [
        {
          "output_type": "stream",
          "name": "stdout",
          "text": [
            "Area of the rectangle is : 200\n"
          ]
        }
      ]
    },
    {
      "cell_type": "code",
      "source": [],
      "metadata": {
        "id": "gHpM5zunvbV6"
      },
      "execution_count": null,
      "outputs": []
    }
  ]
}