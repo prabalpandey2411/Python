{
  "nbformat": 4,
  "nbformat_minor": 0,
  "metadata": {
    "colab": {
      "provenance": []
    },
    "kernelspec": {
      "name": "python3",
      "display_name": "Python 3"
    },
    "language_info": {
      "name": "python"
    }
  },
  "cells": [
    {
      "cell_type": "markdown",
      "source": [
        "1. Write a function that takes in two numbers and returns their sum. \n",
        "\n",
        "2. Write a function that takes in an array of numbers and returns the sum of all the numbers.\n",
        "\n",
        "3. Write a function that takes in a string and returns the reverse of the string\n",
        " \n",
        "4. Write a function that takes in an array of strings and returns a new array with all the strings capitalized. \n",
        "\n",
        "5. Write a function that takes in a number and returns true if the number is even and false if it is odd. \n",
        "\n",
        "6. Write a function that takes in an array of numbers and returns the largest number in the array \n",
        "\n",
        "7. Write a function that takes in an array of numbers and returns a new array with only the even numbers\n",
        "\n",
        "8. Write a function that takes in a string and returns true if the string is a palindrome (reads the same backwards and forwards) and false otherwise \n",
        "\n",
        "9. Write a function that takes in an array of strings and returns a new array with all the strings sorted in alphabetical order \n",
        "\n",
        "10. Write a function that takes in a number and returns the factorial of that number (the product of all positive integers up to and including that number). \n",
        "\n",
        "11. Write a function that takes in two strings and returns true if they are anagrams (contain the same letters in a different order) and false otherwise.\n",
        "\n",
        "12. Write a function that takes in an array of numbers and returns the second smallest number in the array. \n",
        "\n",
        "13. Write a function that takes in an array of strings and returns a new array with all the strings that are palindromes. \n",
        "\n",
        "14. Write a function that takes in an array of numbers and returns a new array with all the numbers sorted in descending order. \n",
        "\n",
        "15. Write a function that takes in a number and returns true if it is a prime number (only divisible by 1 and itself) and false otherwise.\n"
      ],
      "metadata": {
        "id": "Ee5qu4PjlbaT"
      }
    },
    {
      "cell_type": "code",
      "source": [
        "#Write a function that takes in two numbers and returns their sum.\n",
        "\n",
        "def sum(a,b):\n",
        "  return sum(2,3)"
      ],
      "metadata": {
        "colab": {
          "base_uri": "https://localhost:8080/"
        },
        "id": "7URIr5SilqGX",
        "outputId": "5d1bdcfc-2512-4780-de34-9c959cc406e4"
      },
      "execution_count": null,
      "outputs": [
        {
          "output_type": "execute_result",
          "data": {
            "text/plain": [
              "5"
            ]
          },
          "metadata": {},
          "execution_count": 1
        }
      ]
    },
    {
      "cell_type": "code",
      "source": [
        "#Write a function that takes in an array of numbers and returns the sum of all the numbers.\n",
        "import builtins\n",
        "\n",
        "def sum_a(a):\n",
        "  return builtins.sum(a)"
      ],
      "metadata": {
        "id": "vOolYHZPl9Qv"
      },
      "execution_count": null,
      "outputs": []
    },
    {
      "cell_type": "code",
      "source": [
        "arr=[1,2,3,4,5]\n",
        "total= sum_a(arr)\n",
        "print(total)"
      ],
      "metadata": {
        "colab": {
          "base_uri": "https://localhost:8080/"
        },
        "id": "345CMBY_sjbc",
        "outputId": "844346f5-b43d-4357-fccf-95e0bb177182"
      },
      "execution_count": null,
      "outputs": [
        {
          "output_type": "stream",
          "name": "stdout",
          "text": [
            "15\n"
          ]
        }
      ]
    },
    {
      "cell_type": "code",
      "source": [
        "#Write a function that takes in a string and returns the reverse of the string\n",
        "def reverse_string(x):\n",
        "  return str(x[::-1])\n",
        "\n",
        "\n"
      ],
      "metadata": {
        "id": "pHLUIjLR-n--"
      },
      "execution_count": null,
      "outputs": []
    },
    {
      "cell_type": "code",
      "source": [
        "s='prabal'\n",
        "reverse_string(s)"
      ],
      "metadata": {
        "colab": {
          "base_uri": "https://localhost:8080/",
          "height": 36
        },
        "id": "aim-VUcn_XxA",
        "outputId": "1f137ed2-0cc8-4c82-dfb0-e02708a6fea4"
      },
      "execution_count": null,
      "outputs": [
        {
          "output_type": "execute_result",
          "data": {
            "text/plain": [
              "'labarp'"
            ],
            "application/vnd.google.colaboratory.intrinsic+json": {
              "type": "string"
            }
          },
          "metadata": {},
          "execution_count": 36
        }
      ]
    },
    {
      "cell_type": "code",
      "source": [
        "#Write a function that takes in an array of strings and returns a new array with all the strings capitalized.\n",
        "def tocapital(arr):\n",
        "  lst=[x.upper() for x in arr]\n",
        "  return lst\n",
        "\n",
        "z=[\"Prabal\", \"Gaurav\", \"Abhijit\"]\n",
        "tocapital(z)\n",
        "\n",
        "  "
      ],
      "metadata": {
        "colab": {
          "base_uri": "https://localhost:8080/"
        },
        "id": "UmMLfCY4_5u2",
        "outputId": "d15d20c8-d8ec-4314-b266-7acac4a30a8f"
      },
      "execution_count": null,
      "outputs": [
        {
          "output_type": "execute_result",
          "data": {
            "text/plain": [
              "['PRABAL', 'GAURAV', 'ABHIJIT']"
            ]
          },
          "metadata": {},
          "execution_count": 53
        }
      ]
    },
    {
      "cell_type": "code",
      "source": [
        "#Write a function that takes in a number and returns true if the number is even and false if it is odd\n",
        "def even_odd(n):\n",
        "  return ('even' if n%2==0 else 'odd')\n",
        "\n",
        "n=int(input('enter a number: '))\n",
        "even_odd(n)"
      ],
      "metadata": {
        "colab": {
          "base_uri": "https://localhost:8080/",
          "height": 53
        },
        "id": "e3XNCqtAEB4y",
        "outputId": "d57886b3-4aa1-477b-c639-4547186939ad"
      },
      "execution_count": null,
      "outputs": [
        {
          "name": "stdout",
          "output_type": "stream",
          "text": [
            "enter a number: 6\n"
          ]
        },
        {
          "output_type": "execute_result",
          "data": {
            "text/plain": [
              "'even'"
            ],
            "application/vnd.google.colaboratory.intrinsic+json": {
              "type": "string"
            }
          },
          "metadata": {},
          "execution_count": 147
        }
      ]
    },
    {
      "cell_type": "code",
      "source": [
        "#Write a function that takes in an array of numbers and returns the largest number in the array\n",
        "\n",
        "def largest(n):\n",
        "  max=n[0]\n",
        "  for i in range(0,len(n)):\n",
        "    if (n[i]>max):\n",
        "      max=n[i]\n",
        "      \n",
        "  return max\n",
        "\n",
        "l=[1,2,3,4,5,6]\n",
        "largest(l)\n"
      ],
      "metadata": {
        "colab": {
          "base_uri": "https://localhost:8080/"
        },
        "id": "qjTumXOtInHm",
        "outputId": "ca3cae45-2809-43ca-fc44-e46e34026043"
      },
      "execution_count": null,
      "outputs": [
        {
          "output_type": "execute_result",
          "data": {
            "text/plain": [
              "6"
            ]
          },
          "metadata": {},
          "execution_count": 76
        }
      ]
    },
    {
      "cell_type": "code",
      "source": [
        "#Write a function that takes in an array of numbers and returns a new array with only the even numbers\\\n",
        "\n",
        "def even_array(arr):\n",
        "\n",
        "  new_arr=[x for x in arr if x%2==0 ]\n",
        "  return new_arr\n",
        "\n",
        "arr=[1,2,3,4,5,6]\n",
        "even_array(arr)"
      ],
      "metadata": {
        "colab": {
          "base_uri": "https://localhost:8080/"
        },
        "id": "m46tjj6yLg8G",
        "outputId": "c34f0431-029f-4385-c305-6be76520d32b"
      },
      "execution_count": null,
      "outputs": [
        {
          "output_type": "execute_result",
          "data": {
            "text/plain": [
              "[2, 4, 6]"
            ]
          },
          "metadata": {},
          "execution_count": 78
        }
      ]
    },
    {
      "cell_type": "code",
      "source": [
        "#Write a function that takes in a string and returns true if the string is a palindrome (reads the same backwards and forwards) and false otherwise.\n",
        "#using slicing\n",
        "\n",
        "def palindrom(z):\n",
        "  return z==z[::-1]\n",
        "\n",
        "name=\"Prabal\"\n",
        "palindrom(name)\n"
      ],
      "metadata": {
        "colab": {
          "base_uri": "https://localhost:8080/"
        },
        "id": "4BE4esGBNPOY",
        "outputId": "2cb35fda-a10b-4ae7-c03b-4e8ef9958c51"
      },
      "execution_count": null,
      "outputs": [
        {
          "output_type": "execute_result",
          "data": {
            "text/plain": [
              "False"
            ]
          },
          "metadata": {},
          "execution_count": 81
        }
      ]
    },
    {
      "cell_type": "code",
      "source": [
        "#or\n",
        "#reversing string\n",
        "\n",
        "def palindrom_r(s):\n",
        "  rev=''.join(reversed(s))\n",
        "  return s==rev\n",
        "\n",
        "s='malayalam'\n",
        "palindrom_r(s)"
      ],
      "metadata": {
        "colab": {
          "base_uri": "https://localhost:8080/"
        },
        "id": "-04-_meKON82",
        "outputId": "e183a446-dbd8-41d2-88e5-740af9f9b0e2"
      },
      "execution_count": null,
      "outputs": [
        {
          "output_type": "execute_result",
          "data": {
            "text/plain": [
              "True"
            ]
          },
          "metadata": {},
          "execution_count": 86
        }
      ]
    },
    {
      "cell_type": "code",
      "source": [
        "#or\n",
        "#using another variable\n",
        "\n",
        "def palindrom_a(s):\n",
        "  a=''\n",
        "  for i in s:\n",
        "    a+=i\n",
        "  return s==a\n",
        "\n",
        "s='malayalam'\n",
        "palindrom_a(s)"
      ],
      "metadata": {
        "colab": {
          "base_uri": "https://localhost:8080/"
        },
        "id": "OgDiy6J3Q121",
        "outputId": "637058bd-15aa-4e3c-9f2f-1d83734c41cb"
      },
      "execution_count": null,
      "outputs": [
        {
          "output_type": "execute_result",
          "data": {
            "text/plain": [
              "True"
            ]
          },
          "metadata": {},
          "execution_count": 87
        }
      ]
    },
    {
      "cell_type": "code",
      "source": [
        "#Write a function that takes in an array of strings and returns a new array with all the strings sorted in alphabetical order\n",
        "\n",
        "def sorted_a(a):\n",
        "  return sorted(a)\n",
        "\n",
        "s=['Prabal','Aman','Rahul','BV Sailesh', 'Sumit']\n",
        "sorted_a(s)"
      ],
      "metadata": {
        "colab": {
          "base_uri": "https://localhost:8080/"
        },
        "id": "S4ZZxl_FSBBN",
        "outputId": "370dbd86-bab1-49a3-943c-0ad03f919ea6"
      },
      "execution_count": null,
      "outputs": [
        {
          "output_type": "execute_result",
          "data": {
            "text/plain": [
              "['Aman', 'BV Sailesh', 'Prabal', 'Rahul', 'Sumit']"
            ]
          },
          "metadata": {},
          "execution_count": 92
        }
      ]
    },
    {
      "cell_type": "code",
      "source": [
        "#Write a function that takes in two strings and returns true if they are anagrams (contain the same letters in a different order) and false otherwise.\n",
        "\n",
        "def anagrams(a,b):\n",
        "  return sorted(a)==sorted(b)\n",
        "\n",
        "a='prabal'\n",
        "b='pandey'\n",
        "anagrams(a,b)"
      ],
      "metadata": {
        "colab": {
          "base_uri": "https://localhost:8080/"
        },
        "id": "jiqtwzSQaiyH",
        "outputId": "910d8be9-0c6f-4449-bdf6-69f04894fb27"
      },
      "execution_count": null,
      "outputs": [
        {
          "output_type": "execute_result",
          "data": {
            "text/plain": [
              "False"
            ]
          },
          "metadata": {},
          "execution_count": 91
        }
      ]
    },
    {
      "cell_type": "code",
      "source": [
        "# using hash map\n",
        "\n",
        "def anagram_1(a,b):\n",
        "  \n",
        "  if (len(a)!=len(b)):\n",
        "    return False\n",
        "\n",
        "  map={}\n",
        "\n",
        "  #for 1st string\n",
        "  for i in range(len(a)):\n",
        "\n",
        "    if (a[i] in map):\n",
        "      map[a[i]]+= 1\n",
        "    else:\n",
        "      map[a[i]]=1\n",
        "\n",
        "  #for 2nd string\n",
        "  for j in range(len(b)):\n",
        "    if(b[j] in map):\n",
        "      map[b[j]] -=1\n",
        "    else:\n",
        "      return False\n",
        "\n",
        "  keys=map.keys()\n",
        "\n",
        "  for key in keys:\n",
        "    if (map[key!=0]):\n",
        "      return False\n",
        "  else:\n",
        "    return False\n",
        "    "
      ],
      "metadata": {
        "id": "tqKiGfPvcEBR"
      },
      "execution_count": null,
      "outputs": []
    },
    {
      "cell_type": "code",
      "source": [
        "a='prabal'\n",
        "b='pandey'\n",
        "\n",
        "if (anagram_1(a,b)):\n",
        "  print('Anagram')\n",
        "else:\n",
        "  print('Not an Anagram')"
      ],
      "metadata": {
        "colab": {
          "base_uri": "https://localhost:8080/"
        },
        "id": "eYDFds-KhMC7",
        "outputId": "8439e891-ea0b-4674-e5b5-c5e13e6c2c26"
      },
      "execution_count": null,
      "outputs": [
        {
          "output_type": "stream",
          "name": "stdout",
          "text": [
            "Not an Anagram\n"
          ]
        }
      ]
    },
    {
      "cell_type": "code",
      "source": [
        "#Write a function that takes in an array of numbers and returns the second smallest number in the array.\n",
        "\n",
        "def second_l(n):\n",
        "  n.sort()\n",
        "  return n[-2]\n",
        "\n",
        "n=[2,3,1,4,5,11,21]\n",
        "second_l(n)\n"
      ],
      "metadata": {
        "colab": {
          "base_uri": "https://localhost:8080/"
        },
        "id": "4Ey81YXDkWCh",
        "outputId": "9394f96e-1729-4656-da4a-75df949f1316"
      },
      "execution_count": null,
      "outputs": [
        {
          "output_type": "execute_result",
          "data": {
            "text/plain": [
              "11"
            ]
          },
          "metadata": {},
          "execution_count": 116
        }
      ]
    },
    {
      "cell_type": "code",
      "source": [
        "#Write a function that takes in an array of strings and returns a new array with all the strings that are palindromes\n",
        "\n",
        "def s_palindrom(s):\n",
        "  for i in range(0,len(s)):\n",
        "    if (s[i]==s[i][::-1]):\n",
        "      print(\"Palindrom\")\n",
        "    else:\n",
        "      print(\"Not a palindrom\")\n",
        "\n",
        "s=[\"jahaj\", \"Apple\",\"malayalam\",\"done\"]\n",
        "s_palindrom(s)"
      ],
      "metadata": {
        "colab": {
          "base_uri": "https://localhost:8080/"
        },
        "id": "EY0h6SZSnp9Y",
        "outputId": "4804f488-0f6f-4124-b3ea-ec4b6e0535b6"
      },
      "execution_count": null,
      "outputs": [
        {
          "output_type": "stream",
          "name": "stdout",
          "text": [
            "Palindrom\n",
            "Not a palindrom\n",
            "Palindrom\n",
            "Not a palindrom\n"
          ]
        }
      ]
    },
    {
      "cell_type": "code",
      "source": [
        "#Write a function that takes in an array of numbers and returns a new array with all the numbers sorted in descending order.\n",
        "\n",
        "def sorted_num(n):\n",
        "  s=sorted(n,reverse= True)\n",
        "  return s\n",
        "\n",
        "n=[12,2,4,1,3,]\n",
        "sorted_num(n)"
      ],
      "metadata": {
        "colab": {
          "base_uri": "https://localhost:8080/"
        },
        "id": "tML92B50tcMa",
        "outputId": "afc07e8e-897b-4e72-d329-64c7e44da115"
      },
      "execution_count": null,
      "outputs": [
        {
          "output_type": "execute_result",
          "data": {
            "text/plain": [
              "[12, 4, 3, 2, 1]"
            ]
          },
          "metadata": {},
          "execution_count": 138
        }
      ]
    },
    {
      "cell_type": "code",
      "source": [
        "#Write a function that takes in a number and returns true if it is a prime number (only divisible by 1 and itself) and false otherwise.\n",
        "\n",
        "from math import sqrt\n",
        "\n",
        "def prime(n):\n",
        "  if n>1:\n",
        "\n",
        "    for i in range(2,int(sqrt(n))+1):\n",
        "      if n%i==0: \n",
        "        return False\n",
        "        break\n",
        "    else:\n",
        "      return True\n",
        "  else:\n",
        "    return False\n",
        "\n",
        "n=int(input('enter a number: '))\n",
        "prime(n)"
      ],
      "metadata": {
        "colab": {
          "base_uri": "https://localhost:8080/"
        },
        "id": "OuzcOROvwTi5",
        "outputId": "d2740fa0-bc77-4ba5-a4f3-edfd3bd9351f"
      },
      "execution_count": null,
      "outputs": [
        {
          "name": "stdout",
          "output_type": "stream",
          "text": [
            "enter a number: 7\n"
          ]
        },
        {
          "output_type": "execute_result",
          "data": {
            "text/plain": [
              "True"
            ]
          },
          "metadata": {},
          "execution_count": 144
        }
      ]
    },
    {
      "cell_type": "code",
      "source": [],
      "metadata": {
        "id": "PhYn7K2hxFEq"
      },
      "execution_count": null,
      "outputs": []
    },
    {
      "cell_type": "code",
      "source": [],
      "metadata": {
        "id": "84qjiYdSxPWG"
      },
      "execution_count": null,
      "outputs": []
    }
  ]
}