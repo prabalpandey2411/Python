{
  "nbformat": 4,
  "nbformat_minor": 0,
  "metadata": {
    "colab": {
      "provenance": []
    },
    "kernelspec": {
      "name": "python3",
      "display_name": "Python 3"
    },
    "language_info": {
      "name": "python"
    }
  },
  "cells": [
    {
      "cell_type": "code",
      "execution_count": null,
      "metadata": {
        "id": "qcLdpkbMLsQi"
      },
      "outputs": [],
      "source": [
        "\n",
        "\n",
        "d={}\n",
        "class Bank():\n",
        "  count=2022100\n",
        "  #d={}\n",
        "  def __init__(self,name,amt):\n",
        "    \n",
        "    self.Name=name       \n",
        "    self.Amount=amt       \n",
        "    Bank.count+=1\n",
        "    self.acn=Bank.count\n",
        "    d[self.acn]=[self.Name,self.Amount]\n",
        "    #print(d)\n",
        "\n",
        "    print(\"Congratulations Your Account has been created in leena Bank!!\\nName:\", self.Name, \"\\nDeposit amount:\", self.Amount,\"\\nAccount No:\",self.acn)\n",
        "\n",
        "    \n",
        "      \n",
        "  def display(self):\n",
        "      x=int(input(\"Enter  Account Number:\"))\n",
        "      if x in d :\n",
        "        print(\"Your Balance is :Rs\",d[x][1])\n",
        "      else:\n",
        "        print(\"Invalid Account Number\")           \n",
        "\n",
        "  def Withdrawl(self):\n",
        "      x=int(input(\"Enter  Account Number: \"))\n",
        "      if x in d :\n",
        "        y=int(input(\"Enter Amount:Rs \"))\n",
        "        if y <= d[x][1]:\n",
        "          if (d[x][1] - y) >=1000: \n",
        "              d[x][1]=d[x][1]-y\n",
        "              print(\"Balance is:Rs\",d[x][1])\n",
        "          else:\n",
        "             print(\"Not Sufficient  Balance\")\n",
        "        else:\n",
        "            print(\"Not Sufficient  Balance\")\n",
        "      else:\n",
        "        print(\"Invalid Account Number\")   \n",
        "\n",
        "  def Deposit(self):\n",
        "      l=int(input(\"Enter  Account Number: \"))\n",
        "      if l in d :\n",
        "        w=int(input(\"Enter Amount: \"))\n",
        "        if w > 0 :\n",
        "          d[l][1]=d[l][1]+w\n",
        "          print(\"Remaining Balance is: \",d[l][1])\n",
        "        else:\n",
        "          print(\"Invalid input\")\n",
        "      else:\n",
        "        print(\"Invalid Account Number\")\n",
        "\n",
        "  def info(self):\n",
        "      x=int(input(\"Enter  Account Number:\"))\n",
        "      if x in d :\n",
        "        print(\"Name:\",d[x][0],\"\\n Account No:\",x,\"\\nYour Balance is :Rs\",d[x][1])\n",
        "      else:\n",
        "        print(\"Invalid Account Number\") \n"
      ]
    },
    {
      "cell_type": "code",
      "source": [
        "  \n",
        "while True:\n",
        "    print(\"\\n1.Create Account \\n2.Withdraw \\n3.Deposit amount \\n4.Check Balance \\n5.Check Account Information \\n6.Cancel \")\n",
        "    x=int(input(\"Enter your Choice: \"))\n",
        "    if x == 6:\n",
        "      break       \n",
        "    if x==1:\n",
        "      name=input(\"Enter your name: \")\n",
        "      amt=int(input(\"Deposit minimum Rs 1000 to open account you have deposited only:Rs \"))\n",
        "      if amt>=1000:\n",
        "        c=Bank(name,amt)\n",
        "      else:\n",
        "        (\"Minimum Rs 1000 Required for accont opening\")          \n",
        "    elif x==2:\n",
        "      c.Withdrawl()\n",
        "    elif x==3:\n",
        "      c.Deposit()\n",
        "    elif x==4:\n",
        "      c.display()\n",
        "    elif x==5:\n",
        "      c.info()  \n",
        "  \n",
        "    else:\n",
        "      print(\"Invalid Input\")"
      ],
      "metadata": {
        "colab": {
          "base_uri": "https://localhost:8080/"
        },
        "id": "m12Q20zQL64P",
        "outputId": "bc406106-2a9d-4e15-c841-e11476fedd9a"
      },
      "execution_count": null,
      "outputs": [
        {
          "name": "stdout",
          "output_type": "stream",
          "text": [
            "\n",
            "1.Create Account \n",
            "2.Withdraw \n",
            "3.Deposit amount \n",
            "4.Check Balance \n",
            "5.Check Account Information \n",
            "6.Cancel \n",
            "Enter your Choice: 6\n"
          ]
        }
      ]
    }
  ]
}